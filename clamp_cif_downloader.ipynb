{
 "cells": [
  {
   "cell_type": "code",
   "execution_count": 43,
   "id": "3c80747b",
   "metadata": {},
   "outputs": [
    {
     "name": "stderr",
     "output_type": "stream",
     "text": [
      "/var/folders/gl/2h8nn4ps031g1jysgll17wz00000gn/T/ipykernel_49037/1691248450.py:21: DtypeWarning: Columns (23,24,25,30,31,32,38,44,45,46,48,49,51,52,67,72) have mixed types. Specify dtype option on import or set low_memory=False.\n",
      "  data = pd.read_csv(\"cod_new.csv\")\n"
     ]
    }
   ],
   "source": [
    "# read json summaries file\n",
    "# download cif files\n",
    "# save cif files in a folder\n",
    "\n",
    "import json\n",
    "import os\n",
    "import urllib.request\n",
    "from tqdm import tqdm\n",
    "\n",
    "# read json file\n",
    "with open('summaries.json') as f:\n",
    "    summaries = json.load(f)\n",
    "    temp = {val : key for key, val in summaries.items()}\n",
    "    summaries = {val : key for key, val in temp.items()}\n",
    "\n",
    "# create folder\n",
    "if not os.path.exists('cifs'):\n",
    "    os.makedirs('cifs')\n",
    "\n",
    "import pandas as pd\n",
    "data = pd.read_csv(\"cod_new.csv\")"
   ]
  },
  {
   "cell_type": "code",
   "execution_count": 44,
   "id": "511c9b1d",
   "metadata": {},
   "outputs": [],
   "source": [
    "data = data[data.doi.isin(list(dict.keys(summaries)))]\n",
    "data = data[data.doi.notnull()]\n",
    "data = data[data.doi != '']"
   ]
  },
  {
   "cell_type": "code",
   "execution_count": 45,
   "id": "0b3b8cba",
   "metadata": {},
   "outputs": [],
   "source": [
    "# add description summaries value to dataframe\n",
    "data['summary'] = data['doi'].map(summaries)\n",
    "data = data[data.summary.notnull()]\n",
    "data = data[data.summary != '']\n",
    "data = data[['file', 'doi', 'summary']]"
   ]
  },
  {
   "cell_type": "code",
   "execution_count": 46,
   "id": "514cefa2",
   "metadata": {},
   "outputs": [],
   "source": [
    "import re\n",
    "def clean(data):\n",
    "    p = re.compile(r'<.*?>')\n",
    "    return p.sub('', data)\n",
    "\n",
    "data['summary'] = data['summary'].apply(clean)"
   ]
  },
  {
   "cell_type": "code",
   "execution_count": 47,
   "id": "e4c85336",
   "metadata": {},
   "outputs": [
    {
     "name": "stderr",
     "output_type": "stream",
     "text": [
      "  0%|▊                                                                                                                                                                                      | 194/41439 [04:36<13:42:18,  1.20s/it]"
     ]
    }
   ],
   "source": [
    "data = data.reset_index()\n",
    "\n",
    "# download cif files\n",
    "for index, row in tqdm(data.iterrows(), total=data.shape[0]):\n",
    "    urllib.request.urlretrieve(f\"http://www.crystallography.net/cod/{row['file']}.cif\", f\"cifs/{row['file']}.cif\")"
   ]
  },
  {
   "cell_type": "code",
   "execution_count": null,
   "id": "abf94d43",
   "metadata": {},
   "outputs": [],
   "source": [
    "# save dataframe without title\n",
    "data[[\"file\", \"summary\"]].to_csv(\"cifs/id_prop.csv\", index=False, header=False)\n",
    "\n",
    "# make a copy of atom_init.json in cif dir\n",
    "import shutil\n",
    "shutil.copyfile('atom_init.json', 'cifs/atom_init.json')"
   ]
  }
 ],
 "metadata": {
  "kernelspec": {
   "display_name": "Python 3 (ipykernel)",
   "language": "python",
   "name": "python3"
  },
  "language_info": {
   "codemirror_mode": {
    "name": "ipython",
    "version": 3
   },
   "file_extension": ".py",
   "mimetype": "text/x-python",
   "name": "python",
   "nbconvert_exporter": "python",
   "pygments_lexer": "ipython3",
   "version": "3.10.9"
  },
  "vscode": {
   "interpreter": {
    "hash": "aee8b7b246df8f9039afb4144a1f6fd8d2ca17a180786b69acc140d282b71a49"
   }
  }
 },
 "nbformat": 4,
 "nbformat_minor": 5
}
