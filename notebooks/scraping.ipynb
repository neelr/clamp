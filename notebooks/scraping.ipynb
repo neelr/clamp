{
 "cells": [
  {
   "cell_type": "code",
   "execution_count": null,
   "id": "bc2c6b1c",
   "metadata": {},
   "outputs": [],
   "source": [
    "from tqdm.notebook import trange, tqdm\n",
    "import requests"
   ]
  },
  {
   "cell_type": "code",
   "execution_count": null,
   "id": "f362bda8",
   "metadata": {},
   "outputs": [],
   "source": [
    "from habanero import Crossref\n",
    "cr = Crossref()"
   ]
  },
  {
   "cell_type": "code",
   "execution_count": null,
   "id": "66fc7654",
   "metadata": {},
   "outputs": [],
   "source": [
    "import pandas as pd\n",
    "data = pd.read_csv(\"COD-selection.csv\")"
   ]
  },
  {
   "cell_type": "code",
   "execution_count": null,
   "id": "7f301a28",
   "metadata": {},
   "outputs": [],
   "source": [
    "data.doi.sample(n=1).iloc[0]"
   ]
  },
  {
   "cell_type": "code",
   "execution_count": null,
   "id": "0b93c12a",
   "metadata": {},
   "outputs": [],
   "source": [
    " cr.works(ids = \"10.1021/acs.chemrev.9b00223\")['message']"
   ]
  },
  {
   "cell_type": "code",
   "execution_count": null,
   "id": "ecfd7d3e",
   "metadata": {},
   "outputs": [],
   "source": [
    "x = 0\n",
    "for doi in tqdm(data.doi.sample(n=10).items()):\n",
    "    try:\n",
    "        cr.works(ids = doi)['message']['abstract']\n",
    "        x+=1\n",
    "        print(x)\n",
    "    except:\n",
    "        pass"
   ]
  },
  {
   "cell_type": "code",
   "execution_count": null,
   "id": "3ef7298e",
   "metadata": {},
   "outputs": [],
   "source": [
    "from scidownl import scihub_download\n",
    "import os\n",
    "\n",
    "paper = \"https://doi.org/\"+data.doi.sample(n=1).iloc[0]\n",
    "paper_type = \"doi\"\n",
    "out = \"./tmp.pdf\"\n",
    "scihub_download(paper, paper_type=paper_type, out=out)\n",
    "pdfFileObj = open('tmp.pdf', 'rb')\n",
    "\n",
    "pdfReader = PyPDF2.PdfReader(pdfFileObj)\n",
    "   \n",
    "text = pdfReader.pages[0].extract_text()\n",
    "\n",
    "pdfFileObj.close()\n",
    "os.remove(\"tmp.pdf\")"
   ]
  },
  {
   "cell_type": "code",
   "execution_count": null,
   "id": "12cf76ec",
   "metadata": {},
   "outputs": [],
   "source": []
  },
  {
   "cell_type": "code",
   "execution_count": null,
   "id": "e2790e6f",
   "metadata": {},
   "outputs": [],
   "source": [
    "text"
   ]
  },
  {
   "cell_type": "code",
   "execution_count": null,
   "id": "3443a98f",
   "metadata": {},
   "outputs": [],
   "source": [
    "txt = r.text"
   ]
  },
  {
   "cell_type": "code",
   "execution_count": null,
   "id": "a6617204",
   "metadata": {},
   "outputs": [],
   "source": [
    "from bs4 import BeautifulSoup"
   ]
  },
  {
   "cell_type": "code",
   "execution_count": null,
   "id": "0f0a542b",
   "metadata": {},
   "outputs": [],
   "source": [
    "os.environ['PYTORCH_ENABLE_MPS_FALLBACK'] = \"1\""
   ]
  },
  {
   "cell_type": "code",
   "execution_count": null,
   "id": "b76895db",
   "metadata": {},
   "outputs": [],
   "source": [
    "soup = BeautifulSoup(txt)\n",
    "#soup.getText()"
   ]
  },
  {
   "cell_type": "code",
   "execution_count": null,
   "id": "a903f9d4",
   "metadata": {},
   "outputs": [],
   "source": [
    "from transformers import PegasusForConditionalGeneration, PegasusTokenizer\n",
    "import torch\n",
    "\n",
    "src_text = [\n",
    "    \"\"\" PG&E stated it scheduled the blackouts in response to forecasts for high winds amid dry conditions. The aim is to reduce the risk of wildfires. Nearly 800 thousand customers were scheduled to be affected by the shutoffs which were expected to last through at least midday tomorrow.\"\"\"\n",
    "]\n",
    "\n",
    "device = \"mps\"\n",
    "tokenizer_news = PegasusTokenizer.from_pretrained(\"google/pegasus-cnn_dailymail\", max_position_embeddings=2048)\n",
    "tokenizer_xl = PegasusTokenizer.from_pretrained(\"google/pegasus-large\", max_position_embeddings=2048)\n",
    "model_news = PegasusForConditionalGeneration.from_pretrained(\"google/pegasus-cnn_dailymail\", max_position_embeddings=2048).to(device)\n",
    "model_xl = PegasusForConditionalGeneration.from_pretrained(\"google/pegasus-large\", max_position_embeddings=2048).to(device)"
   ]
  },
  {
   "cell_type": "code",
   "execution_count": null,
   "id": "c5bc9c34",
   "metadata": {},
   "outputs": [],
   "source": [
    "model_news = model_news.to(\"mps\")"
   ]
  },
  {
   "cell_type": "code",
   "execution_count": null,
   "id": "ff588d99",
   "metadata": {},
   "outputs": [],
   "source": [
    "from scidownl import scihub_download\n",
    "import os\n",
    "\n",
    "paper = \"https://doi.org/\"+data.doi.sample(n=1).iloc[0]\n",
    "paper_type = \"doi\"\n",
    "out = \"./tmp.pdf\"\n",
    "scihub_download(paper, paper_type=paper_type, out=out)\n",
    "pdfFileObj = open('tmp.pdf', 'rb')\n",
    "\n",
    "pdfReader = PyPDF2.PdfReader(pdfFileObj)\n",
    "   \n",
    "text = pdfReader.pages[0].extract_text()\n",
    "\n",
    "pdfFileObj.close()\n",
    "os.remove(\"tmp.pdf\")\n",
    "prompt = \" \".join(text.split(\" \")[:400])\n",
    "result_length = 200\n",
    "inputs = tokenizer_news(prompt, return_tensors=\"pt\")\n",
    "print(tokenizer_news.decode(model_news.generate(inputs[\"input_ids\"])[0]))"
   ]
  }
 ],
 "metadata": {
  "kernelspec": {
   "display_name": "Python 3",
   "language": "python",
   "name": "python3"
  },
  "language_info": {
   "codemirror_mode": {
    "name": "ipython",
    "version": 3
   },
   "file_extension": ".py",
   "mimetype": "text/x-python",
   "name": "python",
   "nbconvert_exporter": "python",
   "pygments_lexer": "ipython3",
   "version": "3.11.1 (main, Dec 23 2022, 09:40:27) [Clang 14.0.0 (clang-1400.0.29.202)]"
  },
  "vscode": {
   "interpreter": {
    "hash": "1a1af0ee75eeea9e2e1ee996c87e7a2b11a0bebd85af04bb136d915cefc0abce"
   }
  }
 },
 "nbformat": 4,
 "nbformat_minor": 5
}
