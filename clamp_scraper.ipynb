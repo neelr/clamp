{
 "cells": [
  {
   "cell_type": "code",
   "execution_count": 2,
   "id": "18fbf7bf",
   "metadata": {
    "id": "WrYF1oKZ9MCs"
   },
   "outputs": [],
   "source": [
    "from tqdm.notebook import trange, tqdm\n",
    "import requests"
   ]
  },
  {
   "cell_type": "code",
   "execution_count": 3,
   "id": "1cc0a6fa",
   "metadata": {
    "colab": {
     "base_uri": "https://localhost:8080/"
    },
    "id": "OY3lKWSB9Vij",
    "outputId": "3b06e387-ea8d-4206-c7b9-1c4dfb7adf91"
   },
   "outputs": [
    {
     "name": "stderr",
     "output_type": "stream",
     "text": [
      "/var/folders/gl/2h8nn4ps031g1jysgll17wz00000gn/T/ipykernel_44875/2708168232.py:2: DtypeWarning: Columns (23,24,25,32,44,48,49) have mixed types. Specify dtype option on import or set low_memory=False.\n",
      "  data = pd.read_csv(\"COD-selection.csv\")\n"
     ]
    }
   ],
   "source": [
    "import pandas as pd\n",
    "data = pd.read_csv(\"COD-selection.csv\")"
   ]
  },
  {
   "cell_type": "code",
   "execution_count": null,
   "id": "e9d7d7d3",
   "metadata": {
    "colab": {
     "base_uri": "https://localhost:8080/"
    },
    "id": "uGqeYYRh9iBU",
    "outputId": "bcee38b5-f076-44e1-eff5-bee2f02d48bd"
   },
   "outputs": [],
   "source": [
    "!pip install scidownl PyPDF2 transformers torch sentencepiece"
   ]
  },
  {
   "cell_type": "code",
   "execution_count": 4,
   "id": "350ca1cf",
   "metadata": {
    "id": "wGnmwx8W9v_0"
   },
   "outputs": [],
   "source": [
    "import PyPDF2"
   ]
  },
  {
   "cell_type": "code",
   "execution_count": null,
   "id": "de187efe",
   "metadata": {
    "id": "vz840U-X_Pst"
   },
   "outputs": [],
   "source": [
    "!pip install sentencepiece"
   ]
  },
  {
   "cell_type": "code",
   "execution_count": null,
   "id": "d50a4e41",
   "metadata": {},
   "outputs": [],
   "source": [
    "import os\n",
    "os.environ[\"PYTORCH_ENABLE_MPS_FALLBACK\"]"
   ]
  },
  {
   "cell_type": "code",
   "execution_count": 5,
   "id": "36a79784",
   "metadata": {
    "colab": {
     "base_uri": "https://localhost:8080/"
    },
    "id": "zTzZ9VIU9yWg",
    "outputId": "fb48bf5f-f2cb-4aff-b834-22496e577b90"
   },
   "outputs": [
    {
     "name": "stderr",
     "output_type": "stream",
     "text": [
      "/usr/local/anaconda3/envs/ml/lib/python3.9/site-packages/transformers/generation_utils.py:1202: UserWarning: Neither `max_length` nor `max_new_tokens` have been set, `max_length` will default to 128 (`self.config.max_length`). Controlling `max_length` via the config is deprecated and `max_length` will be removed from the config in v5 of Transformers -- we recommend using `max_new_tokens` to control the maximum length of the generation.\n",
      "  warnings.warn(\n",
      "/usr/local/anaconda3/envs/ml/lib/python3.9/site-packages/transformers/generation_utils.py:2260: UserWarning: The operator 'aten::remainder.Tensor_out' is not currently supported on the MPS backend and will fall back to run on the CPU. This may have performance implications. (Triggered internally at /Users/runner/work/_temp/anaconda/conda-bld/pytorch_1663830697895/work/aten/src/ATen/mps/MPSFallback.mm:11.)\n",
      "  next_tokens = next_tokens % vocab_size\n"
     ]
    },
    {
     "name": "stdout",
     "output_type": "stream",
     "text": [
      "['PG&E scheduled the blackouts in response to forecasts for high winds amid dry conditions.<n>The aim is to reduce the risk of wildfires.']\n"
     ]
    }
   ],
   "source": [
    "from transformers import PegasusForConditionalGeneration, PegasusTokenizer\n",
    "import torch\n",
    "\n",
    "src_text = [\n",
    "    \"\"\" PG&E stated it scheduled the blackouts in response to forecasts for high winds amid dry conditions. The aim is to reduce the risk of wildfires. Nearly 800 thousand customers were scheduled to be affected by the shutoffs which were expected to last through at least midday tomorrow.\"\"\"\n",
    "]\n",
    "\n",
    "device = \"mps\"\n",
    "tokenizer_news = PegasusTokenizer.from_pretrained(\"google/pegasus-cnn_dailymail\", max_position_embeddings=2048)\n",
    "tokenizer_xl = PegasusTokenizer.from_pretrained(\"google/pegasus-large\", max_position_embeddings=2048)\n",
    "model_news = PegasusForConditionalGeneration.from_pretrained(\"google/pegasus-cnn_dailymail\", max_position_embeddings=2048).to(device)\n",
    "model_xl = PegasusForConditionalGeneration.from_pretrained(\"google/pegasus-large\", max_position_embeddings=2048).to(device)\n",
    "batch = tokenizer_news(src_text, truncation=True, padding=\"longest\", return_tensors=\"pt\").to(device)\n",
    "translated = model_news.generate(**batch)\n",
    "tgt_text = tokenizer_news.batch_decode(translated, skip_special_tokens=True)\n",
    "print(tgt_text)"
   ]
  },
  {
   "cell_type": "code",
   "execution_count": 6,
   "id": "b31f6190",
   "metadata": {
    "id": "vhW8Og0T9xfg"
   },
   "outputs": [],
   "source": [
    "from scidownl import scihub_download\n",
    "import os\n",
    "def get_summary(doi):\n",
    "    paper = \"https://doi.org/\"+ doi\n",
    "    paper_type = \"doi\"\n",
    "    out = \"./tmp.pdf\"\n",
    "    scihub_download(paper, paper_type=paper_type, out=out)\n",
    "    pdfFileObj = open('tmp.pdf', 'rb')\n",
    "\n",
    "    pdfReader = PyPDF2.PdfReader(pdfFileObj)\n",
    "    \n",
    "    text = pdfReader.pages[0].extract_text()\n",
    "\n",
    "    pdfFileObj.close()\n",
    "    try:\n",
    "        os.remove(\"tmp.pdf\")\n",
    "    except:\n",
    "        return \"\"\n",
    "    prompt = \" \".join(text.split(\" \")[:400])\n",
    "    result_length = 200\n",
    "    inputs = tokenizer_news(prompt, return_tensors=\"pt\").to(\"mps\")\n",
    "    return tokenizer_news.decode(model_news.generate(inputs[\"input_ids\"])[0])"
   ]
  },
  {
   "cell_type": "code",
   "execution_count": 14,
   "id": "afb73f2f",
   "metadata": {
    "colab": {
     "base_uri": "https://localhost:8080/",
     "height": 1000,
     "referenced_widgets": [
      "60ecea14108e4c59b8965e56e5ab9721",
      "ff2178ddabfd415e8c11a42355d52f43",
      "a8d6978b5ec34e889c0d24e9175d280b",
      "e28f221b445a4762b6fdce7a1dbd677e",
      "609d1a8a025e498a948a6daeb083b2d2",
      "a730b045413643b49d889694e4659f4f",
      "6ebc9ebf937c448a80dbccb0789f32ca",
      "4ffb74bf6f5f46ba957874be7aa62eb9",
      "76b2a5aba71143caa70b44ac52c2712b",
      "53ea89f337704d698db5cf830a34a545",
      "845cb94a774540c8a4603ff44a097aab"
     ]
    },
    "id": "txCsLFDWEC4S",
    "outputId": "27b4d308-f940-4654-8da8-7c0072f9671d"
   },
   "outputs": [
    {
     "data": {
      "application/json": {
       "ascii": false,
       "bar_format": null,
       "colour": null,
       "elapsed": 0.00971221923828125,
       "initial": 0,
       "n": 0,
       "ncols": null,
       "nrows": 62,
       "postfix": null,
       "prefix": "",
       "rate": null,
       "total": 44334,
       "unit": "it",
       "unit_divisor": 1000,
       "unit_scale": false
      },
      "application/vnd.jupyter.widget-view+json": {
       "model_id": "b1f0f36954014e2c8776601b1e67fa01",
       "version_major": 2,
       "version_minor": 0
      },
      "text/plain": [
       "  0%|          | 0/44334 [00:00<?, ?it/s]"
      ]
     },
     "metadata": {},
     "output_type": "display_data"
    },
    {
     "name": "stderr",
     "output_type": "stream",
     "text": [
      "[INFO] | 2023/01/11 21:22:22 | Choose scihub url [0]: http://sci-hub.se\n",
      "[INFO] | 2023/01/11 21:22:22 | <- Request: scihub_url=http://sci-hub.se, source=DoiSource[type=doi, id=doi.org/10.1107/S1600536803023699]\n",
      "[INFO] | 2023/01/11 21:22:22 | -> Response: status_code=200, content_length=7133\n",
      "[INFO] | 2023/01/11 21:22:22 | * Extracted information: {'url': 'https://moscow.sci-hub.se/523/bd2a67bf1fcd77eab8b103731ab45492/goreshnik2003.pdf', 'title': '1,4,8,11-Tetraazacyclodecane-1,4,8,11-tetraium bis(aquapentafluoroaluminate) dihydrate. Acta Crystallographica Section E Structure Reports Online, 59(11), m1059–m1061'}\n",
      "[INFO] | 2023/01/11 21:22:23 | ↓ Successfully download the url to: ./tmp.pdf\n"
     ]
    },
    {
     "name": "stdout",
     "output_type": "stream",
     "text": [
      "\r",
      "  0% [                                                                            ]      0 / 219066\r",
      "  3% [..                                                                          ]   8192 / 219066\r",
      "  7% [.....                                                                       ]  16384 / 219066\r",
      " 11% [........                                                                    ]  24576 / 219066\r",
      " 14% [...........                                                                 ]  32768 / 219066\r",
      " 18% [..............                                                              ]  40960 / 219066\r",
      " 22% [.................                                                           ]  49152 / 219066\r",
      " 26% [...................                                                         ]  57344 / 219066\r",
      " 29% [......................                                                      ]  65536 / 219066\r",
      " 33% [.........................                                                   ]  73728 / 219066\r",
      " 37% [............................                                                ]  81920 / 219066\r",
      " 41% [...............................                                             ]  90112 / 219066\r",
      " 44% [..................................                                          ]  98304 / 219066\r",
      " 48% [....................................                                        ] 106496 / 219066\r",
      " 52% [.......................................                                     ] 114688 / 219066\r",
      " 56% [..........................................                                  ] 122880 / 219066\r",
      " 59% [.............................................                               ] 131072 / 219066\r",
      " 63% [................................................                            ] 139264 / 219066\r",
      " 67% [...................................................                         ] 147456 / 219066\r",
      " 71% [.....................................................                       ] 155648 / 219066\r",
      " 74% [........................................................                    ] 163840 / 219066\r",
      " 78% [...........................................................                 ] 172032 / 219066\r",
      " 82% [..............................................................              ] 180224 / 219066\r",
      " 86% [.................................................................           ] 188416 / 219066\r",
      " 89% [....................................................................        ] 196608 / 219066\r",
      " 93% [.......................................................................     ] 204800 / 219066\r",
      " 97% [.........................................................................   ] 212992 / 219066\r",
      "100% [............................................................................] 219066 / 219066\n"
     ]
    }
   ],
   "source": [
    "import json\n",
    "\n",
    "doi_sum = {}\n",
    "for i,r in tqdm(data.iterrows(), total=data.shape[0]):\n",
    "    if i % 10 == 0:\n",
    "        with open('summaries_inorganic.json', 'w') as fp:\n",
    "            json.dump(doi_sum, fp)\n",
    "    summ = get_summary(r.doi)\n",
    "    if summ == \"\":\n",
    "        pass\n",
    "    doi_sum[r.doi] = summ\n",
    "    break\n",
    "\n",
    "with open('summaries_inorganic.json', 'w') as fp:\n",
    "    json.dump(doi_sum, fp)"
   ]
  }
 ],
 "metadata": {
  "accelerator": "GPU",
  "colab": {
   "provenance": []
  },
  "gpuClass": "standard",
  "kernelspec": {
   "display_name": "Python 3 (ipykernel)",
   "language": "python",
   "name": "python3"
  },
  "language_info": {
   "codemirror_mode": {
    "name": "ipython",
    "version": 3
   },
   "file_extension": ".py",
   "mimetype": "text/x-python",
   "name": "python",
   "nbconvert_exporter": "python",
   "pygments_lexer": "ipython3",
   "version": "3.9.12"
  },
  "widgets": {
   "application/vnd.jupyter.widget-state+json": {
    "4ffb74bf6f5f46ba957874be7aa62eb9": {
     "model_module": "@jupyter-widgets/base",
     "model_module_version": "1.2.0",
     "model_name": "LayoutModel",
     "state": {
      "_model_module": "@jupyter-widgets/base",
      "_model_module_version": "1.2.0",
      "_model_name": "LayoutModel",
      "_view_count": null,
      "_view_module": "@jupyter-widgets/base",
      "_view_module_version": "1.2.0",
      "_view_name": "LayoutView",
      "align_content": null,
      "align_items": null,
      "align_self": null,
      "border": null,
      "bottom": null,
      "display": null,
      "flex": null,
      "flex_flow": null,
      "grid_area": null,
      "grid_auto_columns": null,
      "grid_auto_flow": null,
      "grid_auto_rows": null,
      "grid_column": null,
      "grid_gap": null,
      "grid_row": null,
      "grid_template_areas": null,
      "grid_template_columns": null,
      "grid_template_rows": null,
      "height": null,
      "justify_content": null,
      "justify_items": null,
      "left": null,
      "margin": null,
      "max_height": null,
      "max_width": null,
      "min_height": null,
      "min_width": null,
      "object_fit": null,
      "object_position": null,
      "order": null,
      "overflow": null,
      "overflow_x": null,
      "overflow_y": null,
      "padding": null,
      "right": null,
      "top": null,
      "visibility": null,
      "width": null
     }
    },
    "53ea89f337704d698db5cf830a34a545": {
     "model_module": "@jupyter-widgets/base",
     "model_module_version": "1.2.0",
     "model_name": "LayoutModel",
     "state": {
      "_model_module": "@jupyter-widgets/base",
      "_model_module_version": "1.2.0",
      "_model_name": "LayoutModel",
      "_view_count": null,
      "_view_module": "@jupyter-widgets/base",
      "_view_module_version": "1.2.0",
      "_view_name": "LayoutView",
      "align_content": null,
      "align_items": null,
      "align_self": null,
      "border": null,
      "bottom": null,
      "display": null,
      "flex": null,
      "flex_flow": null,
      "grid_area": null,
      "grid_auto_columns": null,
      "grid_auto_flow": null,
      "grid_auto_rows": null,
      "grid_column": null,
      "grid_gap": null,
      "grid_row": null,
      "grid_template_areas": null,
      "grid_template_columns": null,
      "grid_template_rows": null,
      "height": null,
      "justify_content": null,
      "justify_items": null,
      "left": null,
      "margin": null,
      "max_height": null,
      "max_width": null,
      "min_height": null,
      "min_width": null,
      "object_fit": null,
      "object_position": null,
      "order": null,
      "overflow": null,
      "overflow_x": null,
      "overflow_y": null,
      "padding": null,
      "right": null,
      "top": null,
      "visibility": null,
      "width": null
     }
    },
    "609d1a8a025e498a948a6daeb083b2d2": {
     "model_module": "@jupyter-widgets/base",
     "model_module_version": "1.2.0",
     "model_name": "LayoutModel",
     "state": {
      "_model_module": "@jupyter-widgets/base",
      "_model_module_version": "1.2.0",
      "_model_name": "LayoutModel",
      "_view_count": null,
      "_view_module": "@jupyter-widgets/base",
      "_view_module_version": "1.2.0",
      "_view_name": "LayoutView",
      "align_content": null,
      "align_items": null,
      "align_self": null,
      "border": null,
      "bottom": null,
      "display": null,
      "flex": null,
      "flex_flow": null,
      "grid_area": null,
      "grid_auto_columns": null,
      "grid_auto_flow": null,
      "grid_auto_rows": null,
      "grid_column": null,
      "grid_gap": null,
      "grid_row": null,
      "grid_template_areas": null,
      "grid_template_columns": null,
      "grid_template_rows": null,
      "height": null,
      "justify_content": null,
      "justify_items": null,
      "left": null,
      "margin": null,
      "max_height": null,
      "max_width": null,
      "min_height": null,
      "min_width": null,
      "object_fit": null,
      "object_position": null,
      "order": null,
      "overflow": null,
      "overflow_x": null,
      "overflow_y": null,
      "padding": null,
      "right": null,
      "top": null,
      "visibility": null,
      "width": null
     }
    },
    "60ecea14108e4c59b8965e56e5ab9721": {
     "model_module": "@jupyter-widgets/controls",
     "model_module_version": "1.5.0",
     "model_name": "HBoxModel",
     "state": {
      "_dom_classes": [],
      "_model_module": "@jupyter-widgets/controls",
      "_model_module_version": "1.5.0",
      "_model_name": "HBoxModel",
      "_view_count": null,
      "_view_module": "@jupyter-widgets/controls",
      "_view_module_version": "1.5.0",
      "_view_name": "HBoxView",
      "box_style": "",
      "children": [
       "IPY_MODEL_ff2178ddabfd415e8c11a42355d52f43",
       "IPY_MODEL_a8d6978b5ec34e889c0d24e9175d280b",
       "IPY_MODEL_e28f221b445a4762b6fdce7a1dbd677e"
      ],
      "layout": "IPY_MODEL_609d1a8a025e498a948a6daeb083b2d2"
     }
    },
    "6ebc9ebf937c448a80dbccb0789f32ca": {
     "model_module": "@jupyter-widgets/controls",
     "model_module_version": "1.5.0",
     "model_name": "DescriptionStyleModel",
     "state": {
      "_model_module": "@jupyter-widgets/controls",
      "_model_module_version": "1.5.0",
      "_model_name": "DescriptionStyleModel",
      "_view_count": null,
      "_view_module": "@jupyter-widgets/base",
      "_view_module_version": "1.2.0",
      "_view_name": "StyleView",
      "description_width": ""
     }
    },
    "76b2a5aba71143caa70b44ac52c2712b": {
     "model_module": "@jupyter-widgets/controls",
     "model_module_version": "1.5.0",
     "model_name": "ProgressStyleModel",
     "state": {
      "_model_module": "@jupyter-widgets/controls",
      "_model_module_version": "1.5.0",
      "_model_name": "ProgressStyleModel",
      "_view_count": null,
      "_view_module": "@jupyter-widgets/base",
      "_view_module_version": "1.2.0",
      "_view_name": "StyleView",
      "bar_color": null,
      "description_width": ""
     }
    },
    "845cb94a774540c8a4603ff44a097aab": {
     "model_module": "@jupyter-widgets/controls",
     "model_module_version": "1.5.0",
     "model_name": "DescriptionStyleModel",
     "state": {
      "_model_module": "@jupyter-widgets/controls",
      "_model_module_version": "1.5.0",
      "_model_name": "DescriptionStyleModel",
      "_view_count": null,
      "_view_module": "@jupyter-widgets/base",
      "_view_module_version": "1.2.0",
      "_view_name": "StyleView",
      "description_width": ""
     }
    },
    "a730b045413643b49d889694e4659f4f": {
     "model_module": "@jupyter-widgets/base",
     "model_module_version": "1.2.0",
     "model_name": "LayoutModel",
     "state": {
      "_model_module": "@jupyter-widgets/base",
      "_model_module_version": "1.2.0",
      "_model_name": "LayoutModel",
      "_view_count": null,
      "_view_module": "@jupyter-widgets/base",
      "_view_module_version": "1.2.0",
      "_view_name": "LayoutView",
      "align_content": null,
      "align_items": null,
      "align_self": null,
      "border": null,
      "bottom": null,
      "display": null,
      "flex": null,
      "flex_flow": null,
      "grid_area": null,
      "grid_auto_columns": null,
      "grid_auto_flow": null,
      "grid_auto_rows": null,
      "grid_column": null,
      "grid_gap": null,
      "grid_row": null,
      "grid_template_areas": null,
      "grid_template_columns": null,
      "grid_template_rows": null,
      "height": null,
      "justify_content": null,
      "justify_items": null,
      "left": null,
      "margin": null,
      "max_height": null,
      "max_width": null,
      "min_height": null,
      "min_width": null,
      "object_fit": null,
      "object_position": null,
      "order": null,
      "overflow": null,
      "overflow_x": null,
      "overflow_y": null,
      "padding": null,
      "right": null,
      "top": null,
      "visibility": null,
      "width": null
     }
    },
    "a8d6978b5ec34e889c0d24e9175d280b": {
     "model_module": "@jupyter-widgets/controls",
     "model_module_version": "1.5.0",
     "model_name": "FloatProgressModel",
     "state": {
      "_dom_classes": [],
      "_model_module": "@jupyter-widgets/controls",
      "_model_module_version": "1.5.0",
      "_model_name": "FloatProgressModel",
      "_view_count": null,
      "_view_module": "@jupyter-widgets/controls",
      "_view_module_version": "1.5.0",
      "_view_name": "ProgressView",
      "bar_style": "",
      "description": "",
      "description_tooltip": null,
      "layout": "IPY_MODEL_4ffb74bf6f5f46ba957874be7aa62eb9",
      "max": 49743,
      "min": 0,
      "orientation": "horizontal",
      "style": "IPY_MODEL_76b2a5aba71143caa70b44ac52c2712b",
      "value": 1266
     }
    },
    "e28f221b445a4762b6fdce7a1dbd677e": {
     "model_module": "@jupyter-widgets/controls",
     "model_module_version": "1.5.0",
     "model_name": "HTMLModel",
     "state": {
      "_dom_classes": [],
      "_model_module": "@jupyter-widgets/controls",
      "_model_module_version": "1.5.0",
      "_model_name": "HTMLModel",
      "_view_count": null,
      "_view_module": "@jupyter-widgets/controls",
      "_view_module_version": "1.5.0",
      "_view_name": "HTMLView",
      "description": "",
      "description_tooltip": null,
      "layout": "IPY_MODEL_53ea89f337704d698db5cf830a34a545",
      "placeholder": "​",
      "style": "IPY_MODEL_845cb94a774540c8a4603ff44a097aab",
      "value": " 1266/49743 [3:09:18&lt;84:04:39,  6.24s/it]"
     }
    },
    "ff2178ddabfd415e8c11a42355d52f43": {
     "model_module": "@jupyter-widgets/controls",
     "model_module_version": "1.5.0",
     "model_name": "HTMLModel",
     "state": {
      "_dom_classes": [],
      "_model_module": "@jupyter-widgets/controls",
      "_model_module_version": "1.5.0",
      "_model_name": "HTMLModel",
      "_view_count": null,
      "_view_module": "@jupyter-widgets/controls",
      "_view_module_version": "1.5.0",
      "_view_name": "HTMLView",
      "description": "",
      "description_tooltip": null,
      "layout": "IPY_MODEL_a730b045413643b49d889694e4659f4f",
      "placeholder": "​",
      "style": "IPY_MODEL_6ebc9ebf937c448a80dbccb0789f32ca",
      "value": "  3%"
     }
    }
   }
  }
 },
 "nbformat": 4,
 "nbformat_minor": 5
}
