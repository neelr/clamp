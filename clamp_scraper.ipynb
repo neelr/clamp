{
 "cells": [
  {
   "cell_type": "code",
   "execution_count": 3,
   "id": "18fbf7bf",
   "metadata": {
    "id": "WrYF1oKZ9MCs"
   },
   "outputs": [],
   "source": [
    "from tqdm.notebook import trange, tqdm\n",
    "import requests"
   ]
  },
  {
   "cell_type": "code",
   "execution_count": 13,
   "id": "1cc0a6fa",
   "metadata": {
    "colab": {
     "base_uri": "https://localhost:8080/"
    },
    "id": "OY3lKWSB9Vij",
    "outputId": "3b06e387-ea8d-4206-c7b9-1c4dfb7adf91"
   },
   "outputs": [
    {
     "name": "stderr",
     "output_type": "stream",
     "text": [
      "/var/folders/gl/2h8nn4ps031g1jysgll17wz00000gn/T/ipykernel_94916/2136347257.py:3: DtypeWarning: Columns (23,24,25,30,31,32,38,44,45,46,48,49,51,52,67,72) have mixed types. Specify dtype option on import or set low_memory=False.\n",
      "  data = pd.read_csv(\"cod_new.csv\")\n"
     ]
    }
   ],
   "source": [
    "#!sed '1,10d' cod.csv > cod_new.csv\n",
    "import pandas as pd\n",
    "data = pd.read_csv(\"cod_new.csv\")"
   ]
  },
  {
   "cell_type": "code",
   "execution_count": 63,
   "id": "240f4d4d",
   "metadata": {},
   "outputs": [
    {
     "name": "stdout",
     "output_type": "stream",
     "text": [
      "zsh:1: no matches found: http://www.crystallography.net/cod/result.php?format=csv\r\n"
     ]
    }
   ],
   "source": [
    "!wget http://www.crystallography.net/cod/result.php?format=csv -o cod.csv"
   ]
  },
  {
   "cell_type": "code",
   "execution_count": 5,
   "id": "e9d7d7d3",
   "metadata": {
    "colab": {
     "base_uri": "https://localhost:8080/"
    },
    "id": "uGqeYYRh9iBU",
    "outputId": "bcee38b5-f076-44e1-eff5-bee2f02d48bd"
   },
   "outputs": [
    {
     "name": "stdout",
     "output_type": "stream",
     "text": [
      "Requirement already satisfied: scidownl in /usr/local/anaconda3/envs/ml/lib/python3.9/site-packages (1.0.0)\n",
      "Requirement already satisfied: PyPDF2 in /usr/local/anaconda3/envs/ml/lib/python3.9/site-packages (3.0.1)\n",
      "Requirement already satisfied: transformers in /usr/local/anaconda3/envs/ml/lib/python3.9/site-packages (4.21.1)\n",
      "Requirement already satisfied: torch in /usr/local/anaconda3/envs/ml/lib/python3.9/site-packages (1.13.0.dev20220922)\n",
      "Requirement already satisfied: sentencepiece in /usr/local/anaconda3/envs/ml/lib/python3.9/site-packages (0.1.97)\n",
      "Requirement already satisfied: setuptools>=58.0.4 in /usr/local/anaconda3/envs/ml/lib/python3.9/site-packages (from scidownl) (65.1.0)\n",
      "Requirement already satisfied: requests>=2.27.1 in /usr/local/anaconda3/envs/ml/lib/python3.9/site-packages (from scidownl) (2.28.1)\n",
      "Requirement already satisfied: SQLAlchemy>=1.4.31 in /usr/local/anaconda3/envs/ml/lib/python3.9/site-packages (from scidownl) (1.4.46)\n",
      "Requirement already satisfied: wget>=3.2 in /usr/local/anaconda3/envs/ml/lib/python3.9/site-packages (from scidownl) (3.2)\n",
      "Requirement already satisfied: tablib>=3.2.0 in /usr/local/anaconda3/envs/ml/lib/python3.9/site-packages (from scidownl) (3.3.0)\n",
      "Requirement already satisfied: beautifulsoup4>=4.10.0 in /usr/local/anaconda3/envs/ml/lib/python3.9/site-packages (from scidownl) (4.11.1)\n",
      "Requirement already satisfied: loguru>=0.6.0 in /usr/local/anaconda3/envs/ml/lib/python3.9/site-packages (from scidownl) (0.6.0)\n",
      "Requirement already satisfied: click>=8.0.4 in /usr/local/anaconda3/envs/ml/lib/python3.9/site-packages (from scidownl) (8.0.4)\n",
      "Requirement already satisfied: typing_extensions>=3.10.0.0 in /usr/local/anaconda3/envs/ml/lib/python3.9/site-packages (from PyPDF2) (4.3.0)\n",
      "Requirement already satisfied: filelock in /usr/local/anaconda3/envs/ml/lib/python3.9/site-packages (from transformers) (3.6.0)\n",
      "Requirement already satisfied: huggingface-hub<1.0,>=0.1.0 in /usr/local/anaconda3/envs/ml/lib/python3.9/site-packages/huggingface_hub-0.9.0.dev0-py3.8.egg (from transformers) (0.9.0.dev0)\n",
      "Requirement already satisfied: numpy>=1.17 in /usr/local/anaconda3/envs/ml/lib/python3.9/site-packages (from transformers) (1.22.3)\n",
      "Requirement already satisfied: packaging>=20.0 in /usr/local/anaconda3/envs/ml/lib/python3.9/site-packages (from transformers) (21.3)\n",
      "Requirement already satisfied: pyyaml>=5.1 in /usr/local/anaconda3/envs/ml/lib/python3.9/site-packages (from transformers) (6.0)\n",
      "Requirement already satisfied: regex!=2019.12.17 in /usr/local/anaconda3/envs/ml/lib/python3.9/site-packages (from transformers) (2022.7.9)\n",
      "Requirement already satisfied: tokenizers!=0.11.3,<0.13,>=0.11.1 in /usr/local/anaconda3/envs/ml/lib/python3.9/site-packages (from transformers) (0.11.4)\n",
      "Requirement already satisfied: tqdm>=4.27 in /usr/local/anaconda3/envs/ml/lib/python3.9/site-packages (from transformers) (4.64.0)\n",
      "Requirement already satisfied: soupsieve>1.2 in /usr/local/anaconda3/envs/ml/lib/python3.9/site-packages (from beautifulsoup4>=4.10.0->scidownl) (2.3.2.post1)\n",
      "Requirement already satisfied: pyparsing!=3.0.5,>=2.0.2 in /usr/local/anaconda3/envs/ml/lib/python3.9/site-packages (from packaging>=20.0->transformers) (3.0.4)\n",
      "Requirement already satisfied: idna<4,>=2.5 in /usr/local/anaconda3/envs/ml/lib/python3.9/site-packages (from requests>=2.27.1->scidownl) (3.3)\n",
      "Requirement already satisfied: certifi>=2017.4.17 in /usr/local/anaconda3/envs/ml/lib/python3.9/site-packages (from requests>=2.27.1->scidownl) (2022.9.14)\n",
      "Requirement already satisfied: urllib3<1.27,>=1.21.1 in /usr/local/anaconda3/envs/ml/lib/python3.9/site-packages (from requests>=2.27.1->scidownl) (1.26.11)\n",
      "Requirement already satisfied: charset-normalizer<3,>=2 in /usr/local/anaconda3/envs/ml/lib/python3.9/site-packages (from requests>=2.27.1->scidownl) (2.1.0)\n",
      "Requirement already satisfied: tabulate in /usr/local/anaconda3/envs/ml/lib/python3.9/site-packages (from tablib>=3.2.0->scidownl) (0.9.0)\n"
     ]
    }
   ],
   "source": [
    "!pip install scidownl PyPDF2 transformers torch sentencepiece"
   ]
  },
  {
   "cell_type": "code",
   "execution_count": 6,
   "id": "350ca1cf",
   "metadata": {
    "id": "wGnmwx8W9v_0"
   },
   "outputs": [],
   "source": [
    "import PyPDF2"
   ]
  },
  {
   "cell_type": "code",
   "execution_count": null,
   "id": "de187efe",
   "metadata": {
    "id": "vz840U-X_Pst"
   },
   "outputs": [],
   "source": [
    "!pip install sentencepiece"
   ]
  },
  {
   "cell_type": "code",
   "execution_count": 7,
   "id": "333d1e68",
   "metadata": {},
   "outputs": [],
   "source": [
    "import os\n",
    "os.environ[\"PYTORCH_ENABLE_MPS_FALLBACK\"] = \"1\""
   ]
  },
  {
   "cell_type": "code",
   "execution_count": 122,
   "id": "0651e02f",
   "metadata": {
    "colab": {
     "base_uri": "https://localhost:8080/"
    },
    "id": "zTzZ9VIU9yWg",
    "outputId": "fb48bf5f-f2cb-4aff-b834-22496e577b90"
   },
   "outputs": [
    {
     "name": "stderr",
     "output_type": "stream",
     "text": [
      "/usr/local/anaconda3/envs/ml/lib/python3.9/site-packages/transformers/generation_utils.py:1202: UserWarning: Neither `max_length` nor `max_new_tokens` have been set, `max_length` will default to 128 (`self.config.max_length`). Controlling `max_length` via the config is deprecated and `max_length` will be removed from the config in v5 of Transformers -- we recommend using `max_new_tokens` to control the maximum length of the generation.\n",
      "  warnings.warn(\n"
     ]
    },
    {
     "name": "stdout",
     "output_type": "stream",
     "text": [
      "['The dimethyl derivatives 2a and 2′a dimerize selectively through a double cycloaddition.<n>Controlled methanolysis of both 3a and 3′a release the metal-free dimeric bases, (4-Bn-iPrIPH)2 and (4-allyl-iPrPH)2, providing a convenient route to these potentially useful ditopics.']\n"
     ]
    }
   ],
   "source": [
    "from transformers import PegasusForConditionalGeneration, PegasusTokenizer, pipeline\n",
    "\n",
    "import torch\n",
    "\n",
    "src_text = [\n",
    "    \"\"\"A family of stable and otherwise selectively unachievable 2,6-bisimino-4-R-1,4-dihydropyridinate aluminium (III) dialkyl complexes [AlR'2(4-R-iPrBIPH)] (R = Bn, Allyl; R′ = Me, Et, iBu) have been synthesized, taking advantage of a method for the preparation of the corresponding 4-R-1,4-dihydropiridine precursors developed in our group. All the dihydropyrdinate(−1) dialkyl aluminium complexes have been fully characterized by 1H- 13C-NMR, elemental analysis and in the case 2′a, also by X-ray diffraction studies. Upon heating in toluene solution at 110 °C, the dimethyl derivatives 2a and 2′a dimerize selectively through a double cycloaddition. This reaction leads to the formation of two new C–C bonds that involve the both meta positions of the two 4-R-1,4-dihydropyridinate fragments, resulting the binuclear aluminium species [Me2Al(4-R-iPrHBIP)]2 (R = Bn (3a); allyl (3′a)). Experimental kinetics showed that the dimerization of 2′a obeys second order rate with negative activation entropy, which is consistent with a bimolecular rate-determining step. Controlled methanolysis of both 3a and 3′a release the metal-free dimeric bases, (4-Bn-iPrHBIPH)2 and (4-allyl-iPrHBIPH)2, providing a convenient route to these potentially useful ditopic ligands. When the R′ groups are bulkier than Me (2b, 2′b and 2′c), the dimerization is hindered or fully disabled, favoring the formation of paramagnetic NMR-silent species, which have been identified on the basis of a controlled methanolysis of the final organometallic products. Thus, when a toluene solution of [AlEt2(4-Bn-iPrBIPH)] (2b) was heated at 110 °C, followed by the addition of methanol in excess, it yields a mixture of the dimer (4-Bn-iPrHBIPH)2 and the aromatized base 4-Bn-iPrBIP, in ca. 1 : 2 ratio, indicating that the dimerization of 2b competes with its spontaneous dehydrogenation, yielding a paramagnetic complex containing a AlEt2 unit and a non-innocent (4-Bn-iPrBIP)˙− radical-anion ligand. Similar NMR monitoring experiments on the thermal behavior of [AlEt2(4-allyl-iPrBIPH)] (2′b) and [AliBu2(4-allyl-iPrBIPH)] (2′c) showed that these complexes do not dimerize, but afford exclusively NMR silent products. When such thermally treated samples were subjected to methanolysis, they resulted in mixtures of the alkylated 4-allyl-iPrBIP and non-alkylated iPrBIP ligand, suggesting that dehydrogenation and deallylation reactions take place competitively.\"\"\"\n",
    "]\n",
    "\n",
    "device = \"mps\"\n",
    "tokenizer_news = PegasusTokenizer.from_pretrained(\"google/pegasus-cnn_dailymail\", max_position_embeddings=2048)\n",
    "#tokenizer_xl = PegasusTokenizer.from_pretrained(\"google/pegasus-large\", max_position_embeddings=2048)\n",
    "model_news = PegasusForConditionalGeneration.from_pretrained(\"google/pegasus-cnn_dailymail\", max_position_embeddings=2048).to(device)\n",
    "#model_xl = PegasusForConditionalGeneration.from_pretrained(\"google/pegasus-large\", max_position_embeddings=2048).to(device)\n",
    "batch = tokenizer_news(src_text, truncation=True, padding=\"longest\", return_tensors=\"pt\").to(device)\n",
    "translated = model_news.generate(**batch)\n",
    "tgt_text = tokenizer_news.batch_decode(translated, skip_special_tokens=True)\n",
    "print(tgt_text)"
   ]
  },
  {
   "cell_type": "code",
   "execution_count": 55,
   "id": "db885030",
   "metadata": {},
   "outputs": [],
   "source": [
    "import requests\n",
    "from bs4 import BeautifulSoup\n",
    "import re\n",
    "import io\n",
    "import PyPDF2\n",
    "headers = {'User-Agent': 'Mozilla/5.0 (X11; Windows; Windows x86_64) AppleWebKit/537.36 (KHTML, like Gecko) Chrome/103.0.5060.114 Safari/537.36'}\n",
    "\n",
    "def download_read_pdf(uri):\n",
    "    response = requests.get(uri)\n",
    "    mem = io.BytesIO(response.content)\n",
    "\n",
    "    pdfReader = PyPDF2.PdfReader(mem)\n",
    "    \n",
    "    text = pdfReader.pages[0].extract_text()\n",
    "\n",
    "    mem.close()\n",
    "    return text\n",
    "\n",
    "def get_doi_text(doi):\n",
    "    try:\n",
    "        r = requests.get(\"https://doi.org/\"+ doi, headers=headers)\n",
    "    except:\n",
    "        raise ValueError(\"DOI is being weird (can't fetch that)\")\n",
    "    soup = BeautifulSoup(r.content, 'html.parser')\n",
    "    print(soup)\n",
    "    abstr = soup.find('meta',attrs={'name':'DCTERMS.abstract'})\n",
    "    if not abstr:\n",
    "        abstr = soup.find('meta',attrs={'name':'citation_abstract'})\n",
    "    if abstr:\n",
    "        return abstr[\"content\"]\n",
    "    else:\n",
    "        abstr = soup(text=re.compile(r'(.*)abstract(.*)', re.I))\n",
    "        if len(abstr) == 0:\n",
    "            r = requests.get(\"http://library.lol/scimag/\"+ doi, headers=headers)\n",
    "            soup = BeautifulSoup(r.content, 'html.parser')\n",
    "            url = soup.find(\"div\", {\"id\": \"download\"}).findNext(\"a\")[\"href\"]\n",
    "            return download_read_pdf(url)\n",
    "            \n",
    "        return abstr[0].parent.findNext('p').get_text()\n",
    "        "
   ]
  },
  {
   "cell_type": "code",
   "execution_count": 56,
   "id": "441a3eff",
   "metadata": {},
   "outputs": [
    {
     "name": "stdout",
     "output_type": "stream",
     "text": [
      "\n",
      "<!DOCTYPE HTML PUBLIC \"-//W3C//DTD HTML 4.01 Transitional//EN\" \"https://www.w3.org/TR/html4/loose.dtd\">\n",
      "\n",
      "<html>\n",
      "<head>\n",
      "<meta charset=\"utf-8\"/>\n",
      "<meta content=\"text/html\" http-equiv=\"Content-Type\"/>\n",
      "<meta content=\"2; url='/retrieve/articleSelectSinglePerm?Redirect=https%3A%2F%2Fwww.sciencedirect.com%2Fscience%2Farticle%2Fpii%2FS0022459685714077%3Fvia%253Dihub&amp;key=74d0b72207ca2273a32b6eeb26fad96102fb1445'\" http-equiv=\"REFRESH\">\n",
      "<script type=\"text/javascript\">(window.NREUM||(NREUM={})).init={ajax:{deny_list:[\"bam.nr-data.net\"]}};(window.NREUM||(NREUM={})).loader_config={licenseKey:\"ee15051b1b\",applicationID:\"81847441\"};;(()=>{var __webpack_modules__={507:(__unused_webpack_module,__webpack_exports__,__webpack_require__)=>{\"use strict\";function detectPolyfillFeatures(){const featureStatus={};return checkAndAddFeature(\"Promise\",\"PROMISE\"),checkAndAddFeature(\"Array.prototype.includes\",\"ARRAY_INCLUDES\"),checkAndAddFeature(\"Object.assign\",\"OBJECT_ASSIGN\"),checkAndAddFeature(\"Object.entries\",\"OBJECT_ENTRIES\"),featureStatus;function checkAndAddFeature(funcString,featName){try{let func=eval(\"self.\"+funcString);-1!==func.toString().indexOf(\"[native code]\")?featureStatus[featName]=Status.NATIVE:featureStatus[featName]=Status.CHANGED}catch{featureStatus[featName]=Status.UNAVAIL}}}__webpack_require__.d(__webpack_exports__,{n:()=>detectPolyfillFeatures});const Status={UNAVAIL:\"NotSupported\",NATIVE:\"Detected\",CHANGED:\"Modified\"}},2687:(e,t,r)=>{\"use strict\";r.d(t,{Z:()=>n});const n=(0,r(2141).ky)(16)},1719:(e,t,r)=>{\"use strict\";r.d(t,{I:()=>n});var n=0,i=navigator.userAgent.match(/Firefox[\\/\\s](\\d+\\.\\d+)/);i&&(n=+i[1])},3524:(e,t,r)=>{\"use strict\";let n;if(r.d(t,{H:()=>i}),r(8438).il){const e=document.createElement(\"div\");e.innerHTML=\"\\x3c!--[if lte IE 6]><div></div><![endif]--\\x3e\\x3c!--[if lte IE 7]><div></div><![endif]--\\x3e\\x3c!--[if lte IE 8]><div></div><![endif]--\\x3e\\x3c!--[if lte IE 9]><div></div><![endif]--\\x3e\",n=e.getElementsByTagName(\"div\").length}var i;i=4===n?6:3===n?7:2===n?8:1===n?9:0},5970:(e,t,r)=>{\"use strict\";r.d(t,{Mt:()=>_,C5:()=>s,OP:()=>j,Yu:()=>g,Dg:()=>f,CX:()=>u,GE:()=>b,sU:()=>I});var n={};r.r(n),r.d(n,{agent:()=>m,match:()=>x,version:()=>y});var i=r(4580);class o{constructor(e,t){return e&&\"object\"==typeof e?t&&\"object\"==typeof t?(Object.assign(this,t),void Object.entries(e).forEach((e=>{let[t,r]=e;this[t]=r}))):console.error(\"setting a Configurable requires a model to set its initial properties\"):console.error(\"setting a Configurable requires an object as input\")}}const a={beacon:i.ce.beacon,errorBeacon:i.ce.errorBeacon,licenseKey:void 0,applicationID:void 0,sa:void 0,queueTime:void 0,applicationTime:void 0,ttGuid:void 0,user:void 0,account:void 0,product:void 0,extra:void 0,jsAttributes:{},userAttributes:void 0,atts:void 0,transactionName:void 0,tNamePlain:void 0},c={};function s(e){if(!e)throw new Error(\"All info objects require an agent identifier!\");if(!c[e])throw new Error(`Info for ${e} was never set`);return c[e]}function u(e,t){if(!e)throw new Error(\"All info objects require an agent identifier!\");c[e]=new o(t,a),(0,i.Qy)(e,c[e],\"info\")}const d={allow_bfcache:!1,privacy:{cookies_enabled:!0},ajax:{deny_list:void 0,enabled:!0},distributed_tracing:{enabled:void 0,exclude_newrelic_header:void 0,cors_use_newrelic_header:void 0,cors_use_tracecontext_headers:void 0,allowed_origins:void 0},ssl:void 0,obfuscate:void 0,jserrors:{enabled:!0},metrics:{enabled:!0},page_action:{enabled:!0},page_view_event:{enabled:!0},page_view_timing:{enabled:!0},session_trace:{enabled:!0},spa:{enabled:!0}},l={};function f(e,t){if(!e)throw new Error(\"All configuration objects require an agent identifier!\");l[e]=new o(t,d),(0,i.Qy)(e,l[e],\"config\")}function _(e,t){if(!e)throw new Error(\"All configuration objects require an agent identifier!\");var r=function(e){if(!e)throw new Error(\"All configuration objects require an agent identifier!\");if(!l[e])throw new Error(`Configuration for ${e} was never set`);return l[e]}(e);if(r){for(var n=t.split(\".\"),i=0;i<n.length-1;i++)if(\"object\"!=typeof(r=r[n[i]]))return;r=r[n[n.length-1]]}return r}const p={accountID:void 0,trustKey:void 0,agentID:void 0,licenseKey:void 0,applicationID:void 0,xpid:void 0},v={};function b(e,t){if(!e)throw new Error(\"All loader-config objects require an agent identifier!\");v[e]=new o(t,p),(0,i.Qy)(e,v[e],\"loader_config\")}const g=(0,i.mF)().o;var h=r(3524),w=r(9206),m=null,y=null;if(navigator.userAgent){var k=navigator.userAgent,P=k.match(/Version\\/(\\S+)\\s+Safari/);P&&-1===k.indexOf(\"Chrome\")&&-1===k.indexOf(\"Chromium\")&&(m=\"Safari\",y=P[1])}function x(e,t){if(!m)return!1;if(e!==m)return!1;if(!t)return!0;if(!y)return!1;for(var r=y.split(\".\"),n=t.split(\".\"),i=0;i<n.length;i++)if(n[i]!==r[i])return!1;return!0}var E=r(2141),S=r(8438);const O=\"NRBA_SESSION_ID\";function A(){if(!S.il)return null;try{let e;return null===(e=window.sessionStorage.getItem(O))&&(e=(0,E.ky)(16),window.sessionStorage.setItem(O,e)),e}catch(e){return null}}var q=S.ZP?.XMLHttpRequest,C=q&&q.prototype;const T={};function j(e){if(!e)throw new Error(\"All runtime objects require an agent identifier!\");if(!T[e])throw new Error(`Runtime for ${e} was never set`);return T[e]}function I(e,t){if(!e)throw new Error(\"All runtime objects require an agent identifier!\");var r;T[e]=new o(t,(r=e,{customTransaction:void 0,disabled:!1,features:{},loaderType:void 0,maxBytes:6===h.H?2e3:3e4,offset:(0,w.yf)(),onerror:void 0,origin:\"\"+S.ZP?.location,ptid:void 0,releaseIds:{},sessionId:1==_(r,\"privacy.cookies_enabled\")?A():null,xhrWrappable:q&&C&&C.addEventListener&&!/CriOS/.test(navigator.userAgent),userAgent:n})),(0,i.Qy)(e,T[e],\"runtime\")}},8873:(e,t,r)=>{\"use strict\";r.d(t,{q:()=>n});const n=[\"1222\",\"PROD\"].filter((e=>e)).join(\".\")},1925:(e,t,r)=>{\"use strict\";r.d(t,{w:()=>i});const n={agentIdentifier:\"\"};class i{constructor(e){if(\"object\"!=typeof e)return console.error(\"shared context requires an object as input\");this.sharedContext={},Object.assign(this.sharedContext,n),Object.entries(e).forEach((e=>{let[t,r]=e;Object.keys(n).includes(t)&&(this.sharedContext[t]=r)}))}}},2071:(e,t,r)=>{\"use strict\";r.d(t,{ee:()=>s});var n=r(4580),i=r(9010),o=r(9599),a=\"nr@context\";let c=(0,n.fP)();var s;function u(){}function d(){return new u}function l(){(s.backlog.api||s.backlog.feature)&&(s.aborted=!0,s.backlog={})}c.ee?s=c.ee:(s=function e(t,r){var n={},c={},f={},_={on:b,addEventListener:b,removeEventListener:g,emit:v,get:w,listeners:h,context:p,buffer:m,abort:l,aborted:!1,isBuffering:y,debugId:r,backlog:t&&t.backlog?t.backlog:{}};return _;function p(e){return e&&e instanceof u?e:e?(0,i.X)(e,a,d):d()}function v(e,r,n,i,o){if(!1!==o&&(o=!0),!s.aborted||i){t&&o&&t.emit(e,r,n);for(var a=p(n),u=h(e),d=u.length,l=0;l<d;l++)u[l].apply(a,r);var f=k()[c[e]];return f&&f.push([_,e,r,a]),a}}function b(e,t){n[e]=h(e).concat(t)}function g(e,t){var r=n[e];if(r)for(var i=0;i<r.length;i++)r[i]===t&&r.splice(i,1)}function h(e){return n[e]||[]}function w(t){return f[t]=f[t]||e(_,t)}function m(e,t){var r=k();_.aborted||(0,o.D)(e,(function(e,n){t=t||\"feature\",c[n]=t,t in r||(r[t]=[])}))}function y(e){return!!k()[c[e]]}function k(){return _.backlog}}(void 0,\"globalEE\"),c.ee=s)},3195:(e,t,r)=>{\"use strict\";r.d(t,{E:()=>n,p:()=>i});var n=r(2071).ee.get(\"handle\");function i(e,t,r,i,o){o?(o.buffer([e],i),o.emit(e,t,r)):(n.buffer([e],i),n.emit(e,t,r))}},4539:(e,t,r)=>{\"use strict\";r.d(t,{X:()=>o});var n=r(3195);o.on=a;var i=o.handlers={};function o(e,t,r,o){a(o||n.E,i,e,t,r)}function a(e,t,r,i,o){o||(o=\"feature\"),e||(e=n.E);var a=t[o]=t[o]||{};(a[r]=a[r]||[]).push([e,i])}},3585:(e,t,r)=>{\"use strict\";r.d(t,{bP:()=>c,iz:()=>s,m$:()=>a});var n=r(8438),i=!1;try{var o=Object.defineProperty({},\"passive\",{get:function(){i=!0}});n.ZP?.addEventListener(\"testPassive\",null,o),n.ZP?.removeEventListener(\"testPassive\",null,o)}catch(e){}function a(e){return i?{passive:!0,capture:!!e}:!!e}function c(e,t){let r=arguments.length>2&&void 0!==arguments[2]&&arguments[2];window.addEventListener(e,t,a(r))}function s(e,t){let r=arguments.length>2&&void 0!==arguments[2]&&arguments[2];document.addEventListener(e,t,a(r))}},2141:(e,t,r)=>{\"use strict\";r.d(t,{Rl:()=>i,ky:()=>o});var n=r(8438);function i(){var e=null,t=0,r=n.ZP?.crypto||n.ZP?.msCrypto;function i(){return e?15&e[t++]:16*Math.random()|0}r&&r.getRandomValues&&(e=r.getRandomValues(new Uint8Array(31)));for(var o,a=\"xxxxxxxx-xxxx-4xxx-yxxx-xxxxxxxxxxxx\",c=\"\",s=0;s<a.length;s++)c+=\"x\"===(o=a[s])?i().toString(16):\"y\"===o?(o=3&i()|8).toString(16):o;return c}function o(e){var t=null,r=0,n=self.crypto||self.msCrypto;n&&n.getRandomValues&&Uint8Array&&(t=n.getRandomValues(new Uint8Array(31)));for(var i=[],o=0;o<e;o++)i.push(a().toString(16));return i.join(\"\");function a(){return t?15&t[r++]:16*Math.random()|0}}},9206:(e,t,r)=>{\"use strict\";r.d(t,{nb:()=>s,os:()=>u,yf:()=>c,zO:()=>a});var n=r(1209),i=(new Date).getTime(),o=i;function a(){return n.G&&performance.now?Math.round(performance.now()):(i=Math.max((new Date).getTime(),i))-o}function c(){return i}function s(e){o=e}function u(){return o}},1209:(e,t,r)=>{\"use strict\";r.d(t,{G:()=>n});const n=void 0!==r(8438).ZP?.performance?.timing?.navigationStart},745:(e,t,r)=>{\"use strict\";r.d(t,{s:()=>s,v:()=>u});var n=r(7036),i=r(1719),o=r(9206),a=r(1209),c=r(8438);let s=!0;function u(e){var t=function(){if(i.I&&i.I<9)return;if(a.G)return s=!1,c.ZP?.performance?.timing?.navigationStart}();t&&((0,n.B)(e,\"starttime\",t),(0,o.nb)(t))}},7036:(e,t,r)=>{\"use strict\";r.d(t,{B:()=>o,L:()=>a});var n=r(9206),i={};function o(e,t,r){void 0===r&&(r=(0,n.zO)()+(0,n.os)()),i[e]=i[e]||{},i[e][t]=r}function a(e,t,r,n){const o=e.sharedContext.agentIdentifier;var a=i[o]?.[r],c=i[o]?.[n];void 0!==a&&void 0!==c&&e.store(\"measures\",t,{value:c-a})}},8547:(e,t,r)=>{\"use strict\";r.d(t,{T:()=>i});var n=r(8438);const i={isFileProtocol:function(){let e=Boolean(\"file:\"===(0,n.lW)()?.location?.protocol);e&&(i.supportabilityMetricSent=!0);return e},supportabilityMetricSent:!1}},9011:(e,t,r)=>{\"use strict\";r.d(t,{K:()=>o});var n=r(5970);const i=[\"ajax\",\"jserrors\",\"metrics\",\"page_action\",\"page_view_event\",\"page_view_timing\",\"session_trace\",\"spa\"];function o(e){const t={};return i.forEach((r=>{t[r]=function(e,t){return!0!==(0,n.OP)(t).disabled&&!1!==(0,n.Mt)(t,`${e}.enabled`)}(r,e)})),t}},8025:(e,t,r)=>{\"use strict\";r.d(t,{W:()=>i});var n=r(2071);class i{constructor(e,t){let r=arguments.length>2&&void 0!==arguments[2]?arguments[2]:[];this.agentIdentifier=e,this.aggregator=t,this.ee=n.ee.get(e),this.externalFeatures=r,this.blocked=!1}}},9010:(e,t,r)=>{\"use strict\";r.d(t,{X:()=>i});var n=Object.prototype.hasOwnProperty;function i(e,t,r){if(n.call(e,t))return e[t];var i=r();if(Object.defineProperty&&Object.keys)try{return Object.defineProperty(e,t,{value:i,writable:!0,enumerable:!1}),i}catch(e){}return e[t]=i,i}},8438:(e,t,r)=>{\"use strict\";r.d(t,{ZP:()=>a,il:()=>n,lW:()=>c,v6:()=>i});const n=Boolean(\"undefined\"!=typeof window&&window.document),i=Boolean(\"undefined\"!=typeof WorkerGlobalScope&&self.navigator instanceof WorkerNavigator);let o=(()=>{if(n)return window;if(i){if(\"undefined\"!=typeof globalThis&&globalThis instanceof WorkerGlobalScope)return globalThis;if(self instanceof WorkerGlobalScope)return self}throw new Error(\"New Relic browser agent shutting down due to error: Unable to locate global scope. This is possibly due to code redefining browser global variables like `self` and `window`.\")})();const a=o;function c(){return o}},9599:(e,t,r)=>{\"use strict\";r.d(t,{D:()=>i});var n=Object.prototype.hasOwnProperty;function i(e,t){var r=[],i=\"\",o=0;for(i in e)n.call(e,i)&&(r[o]=t(i,e[i]),o+=1);return r}},248:(e,t,r)=>{\"use strict\";r.d(t,{$c:()=>s,Ng:()=>u,RR:()=>c});var n=r(5970),i=r(1925),o=r(8547),a={regex:/^file:\\/\\/(.*)/,replacement:\"file://OBFUSCATED\"};class c extends i.w{constructor(e){super(e)}shouldObfuscate(){return s(this.sharedContext.agentIdentifier).length>0}obfuscateString(e){if(!e||\"string\"!=typeof e)return e;for(var t=s(this.sharedContext.agentIdentifier),r=e,n=0;n<t.length;n++){var i=t[n].regex,o=t[n].replacement||\"*\";r=r.replace(i,o)}return r}}function s(e){var t=[],r=(0,n.Mt)(e,\"obfuscate\")||[];return t=t.concat(r),o.T.isFileProtocol()&&t.push(a),t}function u(e){for(var t=!1,r=!1,n=0;n<e.length;n++){\"regex\"in e[n]?\"string\"!=typeof e[n].regex&&e[n].regex.constructor!==RegExp&&(console&&console.warn&&console.warn('An obfuscation replacement rule contains a \"regex\" value with an invalid type (must be a string or RegExp)'),r=!0):(console&&console.warn&&console.warn('An obfuscation replacement rule was detected missing a \"regex\" value.'),r=!0);var i=e[n].replacement;i&&\"string\"!=typeof i&&(console&&console.warn&&console.warn('An obfuscation replacement rule contains a \"replacement\" value with an invalid type (must be a string)'),t=!0)}return!t&&!r}},4580:(e,t,r)=>{\"use strict\";r.d(t,{EZ:()=>u,Qy:()=>s,ce:()=>o,fP:()=>a,gG:()=>d,mF:()=>c});var n=r(9206),i=r(8438);const o={beacon:\"bam.nr-data.net\",errorBeacon:\"bam.nr-data.net\"};function a(){return i.ZP?.NREUM||(i.ZP.NREUM={}),void 0===i.ZP?.newrelic&&(i.ZP.newrelic=i.ZP.NREUM),i.ZP.NREUM}function c(){let e=a();if(!e.o){var t=self,r=t.XMLHttpRequest;e.o={ST:setTimeout,SI:t.setImmediate,CT:clearTimeout,XHR:r,REQ:t.Request,EV:t.Event,PR:t.Promise,MO:t.MutationObserver,FETCH:t.fetch}}return e}function s(e,t,r){let i=a();const o=i.initializedAgents||{},c=o[e]||{};return Object.keys(c).length||(c.initializedAt={ms:(0,n.zO)(),date:new Date}),i.initializedAgents={...o,[e]:{...c,[r]:t}},i}function u(e,t){a()[e]=t}function d(){return function(){let e=a();const t=e.info||{};e.info={beacon:o.beacon,errorBeacon:o.errorBeacon,...t}}(),function(){let e=a();const t=e.init||{};e.init={...t}}(),c(),function(){let e=a();const t=e.loader_config||{};e.loader_config={...t}}(),a()}},584:(e,t,r)=>{\"use strict\";r.d(t,{N:()=>i,e:()=>o});var n=r(3585);function i(e){let t=arguments.length>1&&void 0!==arguments[1]&&arguments[1];return void(0,n.iz)(\"visibilitychange\",r);function r(){if(t){if(\"hidden\"!=document.visibilityState)return;e()}e(document.visibilityState)}}function o(){return\"hidden\"===document.visibilityState?-1:1/0}},8539:e=>{e.exports=function(e,t,r){t||(t=0),void 0===r&&(r=e?e.length:0);for(var n=-1,i=r-t||0,o=Array(i<0?0:i);++n<i;)o[n]=e[t+n];return o}}},__webpack_module_cache__={},inProgress,dataWebpackPrefix;function __webpack_require__(e){var t=__webpack_module_cache__[e];if(void 0!==t)return t.exports;var r=__webpack_module_cache__[e]={exports:{}};return __webpack_modules__[e](r,r.exports,__webpack_require__),r.exports}__webpack_require__.m=__webpack_modules__,__webpack_require__.n=e=>{var t=e&&e.__esModule?()=>e.default:()=>e;return __webpack_require__.d(t,{a:t}),t},__webpack_require__.d=(e,t)=>{for(var r in t)__webpack_require__.o(t,r)&&!__webpack_require__.o(e,r)&&Object.defineProperty(e,r,{enumerable:!0,get:t[r]})},__webpack_require__.f={},__webpack_require__.e=e=>Promise.all(Object.keys(__webpack_require__.f).reduce(((t,r)=>(__webpack_require__.f[r](e,t),t)),[])),__webpack_require__.u=e=>e+\".\"+__webpack_require__.h().slice(0,8)+\"-1222.js\",__webpack_require__.h=()=>\"95d4308d836c4fa71ea6\",__webpack_require__.o=(e,t)=>Object.prototype.hasOwnProperty.call(e,t),inProgress={},dataWebpackPrefix=\"NRBA:\",__webpack_require__.l=(e,t,r,n)=>{if(inProgress[e])inProgress[e].push(t);else{var i,o;if(void 0!==r)for(var a=document.getElementsByTagName(\"script\"),c=0;c<a.length;c++){var s=a[c];if(s.getAttribute(\"src\")==e||s.getAttribute(\"data-webpack\")==dataWebpackPrefix+r){i=s;break}}i||(o=!0,(i=document.createElement(\"script\")).charset=\"utf-8\",i.timeout=120,__webpack_require__.nc&&i.setAttribute(\"nonce\",__webpack_require__.nc),i.setAttribute(\"data-webpack\",dataWebpackPrefix+r),i.src=e),inProgress[e]=[t];var u=(t,r)=>{i.onerror=i.onload=null,clearTimeout(d);var n=inProgress[e];if(delete inProgress[e],i.parentNode&&i.parentNode.removeChild(i),n&&n.forEach((e=>e(r))),t)return t(r)},d=setTimeout(u.bind(null,void 0,{type:\"timeout\",target:i}),12e4);i.onerror=u.bind(null,i.onerror),i.onload=u.bind(null,i.onload),o&&document.head.appendChild(i)}},__webpack_require__.r=e=>{\"undefined\"!=typeof Symbol&&Symbol.toStringTag&&Object.defineProperty(e,Symbol.toStringTag,{value:\"Module\"}),Object.defineProperty(e,\"__esModule\",{value:!0})},__webpack_require__.p=\"https://js-agent.newrelic.com/\",(()=>{var e={783:0,519:0};__webpack_require__.f.j=(t,r)=>{var n=__webpack_require__.o(e,t)?e[t]:void 0;if(0!==n)if(n)r.push(n[2]);else{var i=new Promise(((r,i)=>n=e[t]=[r,i]));r.push(n[2]=i);var o=__webpack_require__.p+__webpack_require__.u(t),a=new Error;__webpack_require__.l(o,(r=>{if(__webpack_require__.o(e,t)&&(0!==(n=e[t])&&(e[t]=void 0),n)){var i=r&&(\"load\"===r.type?\"missing\":r.type),o=r&&r.target&&r.target.src;a.message=\"Loading chunk \"+t+\" failed.\\n(\"+i+\": \"+o+\")\",a.name=\"ChunkLoadError\",a.type=i,a.request=o,n[1](a)}}),\"chunk-\"+t,t)}};var t=(t,r)=>{var n,i,[o,a,c]=r,s=0;if(o.some((t=>0!==e[t]))){for(n in a)__webpack_require__.o(a,n)&&(__webpack_require__.m[n]=a[n]);if(c)c(__webpack_require__)}for(t&&t(r);s<o.length;s++)i=o[s],__webpack_require__.o(e,i)&&e[i]&&e[i][0](),e[i]=0},r=window.webpackChunkNRBA=window.webpackChunkNRBA||[];r.forEach(t.bind(null,0)),r.push=t.bind(null,r.push.bind(r))})();var __webpack_exports__={};(()=>{\"use strict\";__webpack_require__.r(__webpack_exports__);var e=__webpack_require__(507),t=__webpack_require__(2687),r=__webpack_require__(3585);function n(e){if(!document||\"complete\"===document.readyState)return e()||!0}function i(e){n(e)||(0,r.bP)(\"load\",e)}function o(e){n(e)||(0,r.iz)(\"DOMContentLoaded\",e)}var a=__webpack_require__(8438),c=__webpack_require__(2071);let s=0;function u(e){(async()=>{if(!s++)try{const{aggregator:t}=await __webpack_require__.e(859).then(__webpack_require__.bind(__webpack_require__,7859));await t(e)}catch(e){console.error(\"Failed to successfully load all aggregators. Aborting...\\n\",e),c.ee.abort()}})()}var d=__webpack_require__(8539),l=__webpack_require__.n(d),f=__webpack_require__(4580),_=__webpack_require__(5970),p=__webpack_require__(3195),v=__webpack_require__(9599),b=__webpack_require__(9206);let g=!1;var h=__webpack_require__(7036),w=__webpack_require__(745),m=__webpack_require__(8025);class y extends m.W{constructor(e){super(e),a.il&&((0,w.v)(e),(0,h.B)(e,\"firstbyte\",(0,b.yf)()),i((()=>this.measureWindowLoaded())),o((()=>this.measureDomContentLoaded())))}measureWindowLoaded(){var e=(0,b.zO)();(0,h.B)(this.agentIdentifier,\"onload\",e+(0,b.os)()),(0,p.p)(\"timing\",[\"load\",e],void 0,void 0,this.ee)}measureDomContentLoaded(){(0,h.B)(this.agentIdentifier,\"domContent\",(0,b.zO)()+(0,b.os)())}}var k=__webpack_require__(584);class P extends m.W{constructor(e){var t;if(super(e),t=this,this.isEnabled()&&a.il){if(this.pageHiddenTime=(0,k.e)(),this.performanceObserver,this.lcpPerformanceObserver,this.clsPerformanceObserver,this.fiRecorded=!1,\"PerformanceObserver\"in window&&\"function\"==typeof window.PerformanceObserver){this.performanceObserver=new PerformanceObserver((function(){return t.perfObserver(...arguments)}));try{this.performanceObserver.observe({entryTypes:[\"paint\"]})}catch(e){}this.lcpPerformanceObserver=new PerformanceObserver((function(){return t.lcpObserver(...arguments)}));try{this.lcpPerformanceObserver.observe({entryTypes:[\"largest-contentful-paint\"]})}catch(e){}this.clsPerformanceObserver=new PerformanceObserver((function(){return t.clsObserver(...arguments)}));try{this.clsPerformanceObserver.observe({type:\"layout-shift\",buffered:!0})}catch(e){}}this.fiRecorded=!1;[\"click\",\"keydown\",\"mousedown\",\"pointerdown\",\"touchstart\"].forEach((e=>{(0,r.iz)(e,(function(){return t.captureInteraction(...arguments)}))})),(0,k.N)((()=>{this.pageHiddenTime=(0,b.zO)(),(0,p.p)(\"docHidden\",[this.pageHiddenTime],void 0,void 0,this.ee)}),!0),(0,r.bP)(\"pagehide\",(()=>(0,p.p)(\"winPagehide\",[(0,b.zO)()],void 0,void 0,this.ee)))}}isEnabled(){return!1!==(0,_.Mt)(this.agentIdentifier,\"page_view_timing.enabled\")}perfObserver(e,t){e.getEntries().forEach((e=>{\"first-paint\"===e.name?(0,p.p)(\"timing\",[\"fp\",Math.floor(e.startTime)],void 0,void 0,this.ee):\"first-contentful-paint\"===e.name&&(0,p.p)(\"timing\",[\"fcp\",Math.floor(e.startTime)],void 0,void 0,this.ee)}))}lcpObserver(e,t){var r=e.getEntries();if(r.length>0){var n=r[r.length-1];if(this.pageHiddenTime<n.startTime)return;var i=[n],o=this.addConnectionAttributes({});o&&i.push(o),(0,p.p)(\"lcp\",i,void 0,void 0,this.ee)}}clsObserver(e){e.getEntries().forEach((e=>{e.hadRecentInput||(0,p.p)(\"cls\",[e],void 0,void 0,this.ee)}))}addConnectionAttributes(e){var t=navigator.connection||navigator.mozConnection||navigator.webkitConnection;if(t)return t.type&&(e[\"net-type\"]=t.type),t.effectiveType&&(e[\"net-etype\"]=t.effectiveType),t.rtt&&(e[\"net-rtt\"]=t.rtt),t.downlink&&(e[\"net-dlink\"]=t.downlink),e}captureInteraction(e){if(e instanceof _.Yu.EV&&!this.fiRecorded){var t=Math.round(e.timeStamp),r={type:e.type};this.addConnectionAttributes(r),t<=(0,b.zO)()?r.fid=(0,b.zO)()-t:t>(0,b.os)()&&t<=Date.now()?(t-=(0,b.os)(),r.fid=(0,b.zO)()-t):t=(0,b.zO)(),this.fiRecorded=!0,(0,p.p)(\"timing\",[\"fi\",t,r],void 0,void 0,this.ee)}}}var x=__webpack_require__(4539),E=\"React\",S=\"Angular\",O=\"AngularJS\",A=\"Backbone\",q=\"Ember\",C=\"Vue\",T=\"Meteor\",j=\"Zepto\",I=\"Jquery\";function R(){if(!a.il)return[];var e=[];try{(function(){try{if(window.React||window.ReactDOM||window.ReactRedux)return!0;if(document.querySelector(\"[data-reactroot], [data-reactid]\"))return!0;for(var e=document.querySelectorAll(\"body > div\"),t=0;t<e.length;t++)if(Object.keys(e[t]).indexOf(\"_reactRootContainer\")>=0)return!0;return!1}catch(e){return!1}})()&&e.push(E),function(){try{return!!window.angular||(!!document.querySelector(\".ng-binding, [ng-app], [data-ng-app], [ng-controller], [data-ng-controller], [ng-repeat], [data-ng-repeat]\")||!!document.querySelector('script[src*=\"angular.js\"], script[src*=\"angular.min.js\"]'))}catch(e){return!1}}()&&e.push(O),function(){try{return!!(window.hasOwnProperty(\"ng\")&&window.ng.hasOwnProperty(\"coreTokens\")&&window.ng.coreTokens.hasOwnProperty(\"NgZone\"))||!!document.querySelectorAll(\"[ng-version]\").length}catch(e){return!1}}()&&e.push(S),window.Backbone&&e.push(A),window.Ember&&e.push(q),window.Vue&&e.push(C),window.Meteor&&e.push(T),window.Zepto&&e.push(j),window.jQuery&&e.push(I)}catch(e){}return e}var N=__webpack_require__(8547),M=__webpack_require__(248),Z=__webpack_require__(8873);const B=Boolean(a.ZP?.Worker),D=Boolean(a.ZP?.SharedWorker),W=Boolean(a.ZP?.navigator?.serviceWorker);let F,z,G;class L extends m.W{constructor(e){var t;let r=arguments.length>1&&void 0!==arguments[1]?arguments[1]:{};super(e),t=this,this.PfFeatStatusEnum=r,this.singleChecks(),this.eachSessionChecks(),(0,x.X)(\"record-supportability\",(function(){return t.recordSupportability(...arguments)}),void 0,this.ee),(0,x.X)(\"record-custom\",(function(){return t.recordCustom(...arguments)}),void 0,this.ee)}recordSupportability(e,t){var r=[\"sm\",e,{name:e},t];return(0,p.p)(\"storeMetric\",r,null,void 0,this.ee),r}recordCustom(e,t){var r=[\"cm\",e,{name:e},t];return(0,p.p)(\"storeEventMetrics\",r,null,void 0,this.ee),r}singleChecks(){this.recordSupportability(`Generic/Version/${Z.q}/Detected`);const{loaderType:e}=(0,_.OP)(this.agentIdentifier);e&&this.recordSupportability(`Generic/LoaderType/${e}/Detected`),a.il&&o((()=>{R().forEach((e=>{this.recordSupportability(\"Framework/\"+e+\"/Detected\")}))})),N.T.isFileProtocol()&&(this.recordSupportability(\"Generic/FileProtocol/Detected\"),N.T.supportabilityMetricSent=!0);const t=(0,M.$c)(this.agentIdentifier);t.length>0&&this.recordSupportability(\"Generic/Obfuscate/Detected\"),t.length>0&&!(0,M.Ng)(t)&&this.recordSupportability(\"Generic/Obfuscate/Invalid\"),a.il&&this.reportPolyfillsNeeded(),function(e){if(!F){if(B){F=Worker;try{a.ZP.Worker=r(F,\"Dedicated\")}catch(e){o(e,\"Dedicated\")}if(D){z=SharedWorker;try{a.ZP.SharedWorker=r(z,\"Shared\")}catch(e){o(e,\"Shared\")}}else n(\"Shared\");if(W){G=navigator.serviceWorker.register;try{a.ZP.navigator.serviceWorker.register=(t=G,function(){for(var e=arguments.length,r=new Array(e),n=0;n<e;n++)r[n]=arguments[n];return i(\"Service\",r[1]?.type),t.apply(navigator.serviceWorker,r)})}catch(e){o(e,\"Service\")}}else n(\"Service\");var t;return}n(\"All\")}function r(e,t){return new Proxy(e,{construct:(e,r)=>(i(t,r[1]?.type),new e(...r))})}function n(t){a.v6||e(`Workers/${t}/Unavailable`)}function i(t,r){e(\"module\"===r?`Workers/${t}/Module`:`Workers/${t}/Classic`)}function o(t,r){e(`Workers/${r}/SM/Unsupported`),console.warn(`NR Agent: Unable to capture ${r} workers.`,t)}}(this.recordSupportability.bind(this))}reportPolyfillsNeeded(){this.recordSupportability(`Generic/Polyfill/Promise/${this.PfFeatStatusEnum.PROMISE}`),this.recordSupportability(`Generic/Polyfill/ArrayIncludes/${this.PfFeatStatusEnum.ARRAY_INCLUDES}`),this.recordSupportability(`Generic/Polyfill/ObjectAssign/${this.PfFeatStatusEnum.OBJECT_ASSIGN}`),this.recordSupportability(`Generic/Polyfill/ObjectEntries/${this.PfFeatStatusEnum.OBJECT_ENTRIES}`)}eachSessionChecks(){a.il&&(0,r.bP)(\"pageshow\",(e=>{e.persisted&&this.recordCustom(\"Custom/BFCache/PageRestored\")}))}}var U=__webpack_require__(9011);const $=(0,e.n)(),H=\"lite\";try{!function(e){if(g)return;const r=(0,f.gG)();a.v6&&(r.info.jsAttributes={...r.info.jsAttributes,isWorker:!0});try{(0,_.CX)(t.Z,r.info),(0,_.Dg)(t.Z,r.init),(0,_.GE)(t.Z,r.loader_config),(0,_.sU)(t.Z,{loaderType:e}),function(e){var t=(0,f.fP)(),r=c.ee.get(e),n=r.get(\"tracer\"),i=\"api-\",o=i+\"ixn-\";function a(){}(0,v.D)([\"setErrorHandler\",\"finished\",\"addToTrace\",\"inlineHit\",\"addRelease\"],(function(e,r){t[r]=u(i,r,!0,\"api\")})),t.addPageAction=u(i,\"addPageAction\",!0),t.setCurrentRouteName=u(i,\"routeName\",!0),t.setPageViewName=function(t,r){if(\"string\"==typeof t)return\"/\"!==t.charAt(0)&&(t=\"/\"+t),(0,_.OP)(e).customTransaction=(r||\"http://custom.transaction\")+t,u(i,\"setPageViewName\",!0,\"api\")()},t.setCustomAttribute=function(t,r){const n=(0,_.C5)(e);return(0,_.CX)(e,{...n,jsAttributes:{...n.jsAttributes,[t]:r}}),u(i,\"setCustomAttribute\",!0,\"api\")()},t.interaction=function(){return(new a).get()};var s=a.prototype={createTracer:function(e,t){var i={},a=this,c=\"function\"==typeof t;return(0,p.p)(o+\"tracer\",[(0,b.zO)(),e,i],a,void 0,r),function(){if(n.emit((c?\"\":\"no-\")+\"fn-start\",[(0,b.zO)(),a,c],i),c)try{return t.apply(this,arguments)}catch(e){throw n.emit(\"fn-err\",[arguments,this,\"string\"==typeof e?new Error(e):e],i),e}finally{n.emit(\"fn-end\",[(0,b.zO)()],i)}}}};function u(e,t,n,i){return function(){return(0,p.p)(\"record-supportability\",[\"API/\"+t+\"/called\"],void 0,void 0,r),(0,p.p)(e+t,[(0,b.zO)()].concat(l()(arguments)),n?null:this,i,r),n?void 0:this}}(0,v.D)(\"actionText,setName,setAttribute,save,ignore,onEnd,getContext,end,get\".split(\",\"),(function(e,t){s[t]=u(o,t)})),t.noticeError=function(e,t){\"string\"==typeof e&&(e=new Error(e)),(0,p.p)(\"record-supportability\",[\"API/noticeError/called\"],void 0,void 0,r),(0,p.p)(\"err\",[e,(0,b.zO)(),!1,t],void 0,void 0,r)}}(t.Z),g=!0}catch(e){}}(H);const e=(0,U.K)(t.Z);e.page_view_event&&new y(t.Z),e.page_view_timing&&new P(t.Z),e.metrics&&new L(t.Z,$),function(e,t){let r=arguments.length>2&&void 0!==arguments[2]?arguments[2]:1e3;t?setTimeout((()=>u(e)),r):a.il?i((()=>u(e))):u(e)}(H)}catch(e){a.ZP?.newrelic?.ee?.abort&&a.ZP.newrelic.ee.abort()}})(),window.NRBA=__webpack_exports__})();</script><script src=\"/retrieve/static/script/siteCatalystHelper.js\" type=\"text/JavaScript\"></script>\n",
      "<script src=\"https://ajax.googleapis.com/ajax/libs/jquery/1.10.1/jquery.min.js\" type=\"text/JavaScript\"></script>\n",
      "<script src=\"https://assets.adobedtm.com/4a848ae9611a/519188bfaff2/launch-d9c9ae460653.min.js\"></script>\n",
      "<title>Redirecting</title>\n",
      "<meta content=\"text/html; charset=utf-8\" http-equiv=\"Content-Type\"/>\n",
      "<link href=\"/retrieve/static/css/articleLocatorNew.css\" rel=\"stylesheet\" title=\"Default Styles\"/>\n",
      "<link href=\"/retrieve/static/css/updateForm.css\" rel=\"stylesheet\" title=\"Default Styles\"/>\n",
      "<script language=\"JavaScript\" type=\"text/javascript\">\n",
      "var timerStart = Date.now();\n",
      "var pageName = \"\";\n",
      "\n",
      "if (pageName == \"\") {\n",
      "\tpageName = \"Auto Article Locator\";\n",
      "} \n",
      "\tfunction autoRedirectToURL() {\n",
      "\t\tvar url = '/retrieve/'+document.getElementById('resultName').value+'?Redirect='+document.getElementById('redirectURL').value+'&key='+document.getElementById('key').value\n",
      "\t\ttry{siteCatalyst.clickEventTrack(document.getElementById('id').value);}catch(e){}\n",
      "\t\twindow.location = url;\n",
      "\t}\n",
      "</script>\n",
      "</meta></head>\n",
      "<body onload=\"autoRedirectToURL();\">\n",
      "<tr style=\"display:none;\">\n",
      "<td colspan=\"2\">\n",
      "<input id=\"redirectURL\" name=\"redirectURL\" type=\"hidden\" value=\"https%3A%2F%2Fwww.sciencedirect.com%2Fscience%2Farticle%2Fpii%2FS0022459685714077%3Fvia%253Dihub\"/> </td>\n",
      "</tr>\n",
      "<tr style=\"display:none;\">\n",
      "<td colspan=\"2\">\n",
      "<input id=\"key\" name=\"key\" type=\"hidden\" value=\"74d0b72207ca2273a32b6eeb26fad96102fb1445\"/> </td>\n",
      "</tr>\n",
      "<tr style=\"display:none;\">\n",
      "<td colspan=\"2\">\n",
      "<input id=\"id\" name=\"id\" type=\"hidden\" value=\"S0022459685714077\"/> </td>\n",
      "</tr>\n",
      "<tr style=\"display:none;\">\n",
      "<td colspan=\"2\">\n",
      "<input id=\"resultName\" name=\"resultName\" type=\"hidden\" value=\"articleSelectSinglePerm\"/> </td>\n",
      "</tr>\n",
      "<script type=\"text/javascript\">window.NREUM||(NREUM={});NREUM.info={\"errorBeacon\":\"bam.nr-data.net\",\"licenseKey\":\"ee15051b1b\",\"agent\":\"\",\"beacon\":\"bam.nr-data.net\",\"applicationTime\":36,\"applicationID\":\"81847441\",\"transactionName\":\"ZFBWNhBVWUpUWkBcC10aZxYQQUNKdFpAXAtdGkQLCxtkCQULBgFRCgMMV1UFAwkCDg==\",\"queueTime\":0}</script></body>\n",
      "<script>\n",
      "\t\tsiteCatalyst.pageDataLoad({\n",
      "\t\t\tbusinessUnit : 'ELS:RP:ST',\n",
      "            environment : 'prod',\n",
      "            language : 'en',\n",
      "            loadTime : (Date.now()-timerStart).toString(),\n",
      "            loadTimestamp : Date.now().toString(),\n",
      "            name : pageName,\n",
      "            productName : 'IH',\n",
      "            type : 'NP-GP',\n",
      "            \n",
      "            accessType : 'ih:anon_guest',\n",
      "            ipAddress : '108.88.224.215'\n",
      "\t\t});\n",
      "\t</script>\n",
      "</html>\n",
      "\n"
     ]
    },
    {
     "data": {
      "text/plain": [
       "''"
      ]
     },
     "execution_count": 56,
     "metadata": {},
     "output_type": "execute_result"
    }
   ],
   "source": [
    "get_doi_text(\"10.1006/jssc.1995.1407\")"
   ]
  },
  {
   "cell_type": "code",
   "execution_count": 49,
   "id": "946eff3b",
   "metadata": {},
   "outputs": [
    {
     "data": {
      "text/plain": [
       "'\\nr = requests.get(\"http://library.lol/scimag/\"+\"10.1021/acs.macromol.0c01461\", headers={\"User-Agent\":\"Mozilla/5.0\"})\\nsoup = BeautifulSoup(r.content, \\'html.parser\\')\\nurl = soup.find(\"div\", {\"id\": \"download\"}).findNext(\"a\")[\"href\"]\\n'"
      ]
     },
     "execution_count": 49,
     "metadata": {},
     "output_type": "execute_result"
    }
   ],
   "source": [
    "import re\n",
    "\"\"\"\n",
    "r = requests.get(\"http://library.lol/scimag/\"+\"10.1021/acs.macromol.0c01461\", headers={\"User-Agent\":\"Mozilla/5.0\"})\n",
    "soup = BeautifulSoup(r.content, 'html.parser')\n",
    "url = soup.find(\"div\", {\"id\": \"download\"}).findNext(\"a\")[\"href\"]\n",
    "\"\"\""
   ]
  },
  {
   "cell_type": "code",
   "execution_count": 48,
   "id": "29500628",
   "metadata": {
    "scrolled": true
   },
   "outputs": [
    {
     "data": {
      "text/plain": [
       "'\\nr = requests.get(\"https://doi.org/\"+ \"10.1524/zkri.1985.172.1-2.129\", headers={\"User-Agent\":\"Mozilla/5.0\"})\\nsoup = BeautifulSoup(r.content, \\'html.parser\\')\\nabstr = soup.find(\\'meta\\',attrs={\\'name\\':\\'DCTERMS.abstract\\'})\\nif not abstr:\\n    abstr = soup.find(\\'meta\\',attrs={\\'name\\':\\'og:description\\'})\\nif not abstr:\\n    abstr = soup.find(\\'meta\\',attrs={\\'name\\':\\'description\\'})\\nif not abstr:\\n    abstr = soup.find(\\'meta\\',attrs={\\'name\\':\\'Description\\'})\\nif abstr:\\n    print(abstr[\"content\"])\\n'"
      ]
     },
     "execution_count": 48,
     "metadata": {},
     "output_type": "execute_result"
    }
   ],
   "source": [
    "\"\"\"\n",
    "r = requests.get(\"https://doi.org/\"+ \"10.1524/zkri.1985.172.1-2.129\", headers={\"User-Agent\":\"Mozilla/5.0\"})\n",
    "soup = BeautifulSoup(r.content, 'html.parser')\n",
    "abstr = soup.find('meta',attrs={'name':'DCTERMS.abstract'})\n",
    "if not abstr:\n",
    "    abstr = soup.find('meta',attrs={'name':'og:description'})\n",
    "if not abstr:\n",
    "    abstr = soup.find('meta',attrs={'name':'description'})\n",
    "if not abstr:\n",
    "    abstr = soup.find('meta',attrs={'name':'Description'})\n",
    "if abstr:\n",
    "    print(abstr[\"content\"])\n",
    "\"\"\""
   ]
  },
  {
   "cell_type": "code",
   "execution_count": 47,
   "id": "b31f6190",
   "metadata": {
    "id": "vhW8Og0T9xfg"
   },
   "outputs": [],
   "source": [
    "import os\n",
    "def get_summary(doi):\n",
    "    text = get_doi_text(doi)\n",
    "    inputs = tokenizer_news(text, return_tensors=\"pt\")[\"input_ids\"]\n",
    "    if inputs.shape[1] > 1024:\n",
    "        inputs = inputs.narrow(1,0,1024)\n",
    "    return tokenizer_news.decode(model_news.generate(inputs, max_new_tokens=result_length)[0])"
   ]
  },
  {
   "cell_type": "code",
   "execution_count": 11,
   "id": "4f617546",
   "metadata": {
    "colab": {
     "base_uri": "https://localhost:8080/",
     "height": 1000,
     "referenced_widgets": [
      "60ecea14108e4c59b8965e56e5ab9721",
      "ff2178ddabfd415e8c11a42355d52f43",
      "a8d6978b5ec34e889c0d24e9175d280b",
      "e28f221b445a4762b6fdce7a1dbd677e",
      "609d1a8a025e498a948a6daeb083b2d2",
      "a730b045413643b49d889694e4659f4f",
      "6ebc9ebf937c448a80dbccb0789f32ca",
      "4ffb74bf6f5f46ba957874be7aa62eb9",
      "76b2a5aba71143caa70b44ac52c2712b",
      "53ea89f337704d698db5cf830a34a545",
      "845cb94a774540c8a4603ff44a097aab"
     ]
    },
    "id": "txCsLFDWEC4S",
    "outputId": "27b4d308-f940-4654-8da8-7c0072f9671d"
   },
   "outputs": [
    {
     "data": {
      "application/json": {
       "ascii": false,
       "bar_format": null,
       "colour": null,
       "elapsed": 0.022447824478149414,
       "initial": 0,
       "n": 0,
       "ncols": null,
       "nrows": 62,
       "postfix": null,
       "prefix": "",
       "rate": null,
       "total": 44334,
       "unit": "it",
       "unit_divisor": 1000,
       "unit_scale": false
      },
      "application/vnd.jupyter.widget-view+json": {
       "model_id": "261632ec3fa040888e94bd7236befa2b",
       "version_major": 2,
       "version_minor": 0
      },
      "text/plain": [
       "  0%|          | 0/44334 [00:00<?, ?it/s]"
      ]
     },
     "metadata": {},
     "output_type": "display_data"
    },
    {
     "ename": "NameError",
     "evalue": "name 'get_summary' is not defined",
     "output_type": "error",
     "traceback": [
      "\u001b[0;31m---------------------------------------------------------------------------\u001b[0m",
      "\u001b[0;31mNameError\u001b[0m                                 Traceback (most recent call last)",
      "Input \u001b[0;32mIn [11]\u001b[0m, in \u001b[0;36m<cell line: 4>\u001b[0;34m()\u001b[0m\n\u001b[1;32m      6\u001b[0m     \u001b[38;5;28;01mwith\u001b[39;00m \u001b[38;5;28mopen\u001b[39m(\u001b[38;5;124m'\u001b[39m\u001b[38;5;124msummaries_inorganic.json\u001b[39m\u001b[38;5;124m'\u001b[39m, \u001b[38;5;124m'\u001b[39m\u001b[38;5;124mw\u001b[39m\u001b[38;5;124m'\u001b[39m) \u001b[38;5;28;01mas\u001b[39;00m fp:\n\u001b[1;32m      7\u001b[0m         json\u001b[38;5;241m.\u001b[39mdump(doi_sum, fp)\n\u001b[0;32m----> 8\u001b[0m summ \u001b[38;5;241m=\u001b[39m \u001b[43mget_summary\u001b[49m(r\u001b[38;5;241m.\u001b[39mdoi)\n\u001b[1;32m      9\u001b[0m \u001b[38;5;28;01mif\u001b[39;00m summ \u001b[38;5;241m==\u001b[39m \u001b[38;5;124m\"\u001b[39m\u001b[38;5;124m\"\u001b[39m:\n\u001b[1;32m     10\u001b[0m     \u001b[38;5;28;01mpass\u001b[39;00m\n",
      "\u001b[0;31mNameError\u001b[0m: name 'get_summary' is not defined"
     ]
    }
   ],
   "source": [
    "import json\n",
    "\n",
    "doi_sum = {}\n",
    "for i,r in tqdm(data.iterrows(), total=data.shape[0]):\n",
    "    if i % 10 == 0:\n",
    "        with open('summaries_inorganic.json', 'w') as fp:\n",
    "            json.dump(doi_sum, fp)\n",
    "    summ = get_summary(r.doi)\n",
    "    if summ == \"\":\n",
    "        pass\n",
    "    doi_sum[r.doi] = summ\n",
    "    if i == 3:\n",
    "        break\n",
    "\n",
    "with open('summaries_inorganic.json', 'w') as fp:\n",
    "    json.dump(doi_sum, fp)"
   ]
  }
 ],
 "metadata": {
  "accelerator": "GPU",
  "colab": {
   "provenance": []
  },
  "gpuClass": "standard",
  "kernelspec": {
   "display_name": "Python 3 (ipykernel)",
   "language": "python",
   "name": "python3"
  },
  "widgets": {
   "application/vnd.jupyter.widget-state+json": {
    "4ffb74bf6f5f46ba957874be7aa62eb9": {
     "model_module": "@jupyter-widgets/base",
     "model_module_version": "1.2.0",
     "model_name": "LayoutModel",
     "state": {
      "_model_module": "@jupyter-widgets/base",
      "_model_module_version": "1.2.0",
      "_model_name": "LayoutModel",
      "_view_count": null,
      "_view_module": "@jupyter-widgets/base",
      "_view_module_version": "1.2.0",
      "_view_name": "LayoutView",
      "align_content": null,
      "align_items": null,
      "align_self": null,
      "border": null,
      "bottom": null,
      "display": null,
      "flex": null,
      "flex_flow": null,
      "grid_area": null,
      "grid_auto_columns": null,
      "grid_auto_flow": null,
      "grid_auto_rows": null,
      "grid_column": null,
      "grid_gap": null,
      "grid_row": null,
      "grid_template_areas": null,
      "grid_template_columns": null,
      "grid_template_rows": null,
      "height": null,
      "justify_content": null,
      "justify_items": null,
      "left": null,
      "margin": null,
      "max_height": null,
      "max_width": null,
      "min_height": null,
      "min_width": null,
      "object_fit": null,
      "object_position": null,
      "order": null,
      "overflow": null,
      "overflow_x": null,
      "overflow_y": null,
      "padding": null,
      "right": null,
      "top": null,
      "visibility": null,
      "width": null
     }
    },
    "53ea89f337704d698db5cf830a34a545": {
     "model_module": "@jupyter-widgets/base",
     "model_module_version": "1.2.0",
     "model_name": "LayoutModel",
     "state": {
      "_model_module": "@jupyter-widgets/base",
      "_model_module_version": "1.2.0",
      "_model_name": "LayoutModel",
      "_view_count": null,
      "_view_module": "@jupyter-widgets/base",
      "_view_module_version": "1.2.0",
      "_view_name": "LayoutView",
      "align_content": null,
      "align_items": null,
      "align_self": null,
      "border": null,
      "bottom": null,
      "display": null,
      "flex": null,
      "flex_flow": null,
      "grid_area": null,
      "grid_auto_columns": null,
      "grid_auto_flow": null,
      "grid_auto_rows": null,
      "grid_column": null,
      "grid_gap": null,
      "grid_row": null,
      "grid_template_areas": null,
      "grid_template_columns": null,
      "grid_template_rows": null,
      "height": null,
      "justify_content": null,
      "justify_items": null,
      "left": null,
      "margin": null,
      "max_height": null,
      "max_width": null,
      "min_height": null,
      "min_width": null,
      "object_fit": null,
      "object_position": null,
      "order": null,
      "overflow": null,
      "overflow_x": null,
      "overflow_y": null,
      "padding": null,
      "right": null,
      "top": null,
      "visibility": null,
      "width": null
     }
    },
    "609d1a8a025e498a948a6daeb083b2d2": {
     "model_module": "@jupyter-widgets/base",
     "model_module_version": "1.2.0",
     "model_name": "LayoutModel",
     "state": {
      "_model_module": "@jupyter-widgets/base",
      "_model_module_version": "1.2.0",
      "_model_name": "LayoutModel",
      "_view_count": null,
      "_view_module": "@jupyter-widgets/base",
      "_view_module_version": "1.2.0",
      "_view_name": "LayoutView",
      "align_content": null,
      "align_items": null,
      "align_self": null,
      "border": null,
      "bottom": null,
      "display": null,
      "flex": null,
      "flex_flow": null,
      "grid_area": null,
      "grid_auto_columns": null,
      "grid_auto_flow": null,
      "grid_auto_rows": null,
      "grid_column": null,
      "grid_gap": null,
      "grid_row": null,
      "grid_template_areas": null,
      "grid_template_columns": null,
      "grid_template_rows": null,
      "height": null,
      "justify_content": null,
      "justify_items": null,
      "left": null,
      "margin": null,
      "max_height": null,
      "max_width": null,
      "min_height": null,
      "min_width": null,
      "object_fit": null,
      "object_position": null,
      "order": null,
      "overflow": null,
      "overflow_x": null,
      "overflow_y": null,
      "padding": null,
      "right": null,
      "top": null,
      "visibility": null,
      "width": null
     }
    },
    "60ecea14108e4c59b8965e56e5ab9721": {
     "model_module": "@jupyter-widgets/controls",
     "model_module_version": "1.5.0",
     "model_name": "HBoxModel",
     "state": {
      "_dom_classes": [],
      "_model_module": "@jupyter-widgets/controls",
      "_model_module_version": "1.5.0",
      "_model_name": "HBoxModel",
      "_view_count": null,
      "_view_module": "@jupyter-widgets/controls",
      "_view_module_version": "1.5.0",
      "_view_name": "HBoxView",
      "box_style": "",
      "children": [
       "IPY_MODEL_ff2178ddabfd415e8c11a42355d52f43",
       "IPY_MODEL_a8d6978b5ec34e889c0d24e9175d280b",
       "IPY_MODEL_e28f221b445a4762b6fdce7a1dbd677e"
      ],
      "layout": "IPY_MODEL_609d1a8a025e498a948a6daeb083b2d2"
     }
    },
    "6ebc9ebf937c448a80dbccb0789f32ca": {
     "model_module": "@jupyter-widgets/controls",
     "model_module_version": "1.5.0",
     "model_name": "DescriptionStyleModel",
     "state": {
      "_model_module": "@jupyter-widgets/controls",
      "_model_module_version": "1.5.0",
      "_model_name": "DescriptionStyleModel",
      "_view_count": null,
      "_view_module": "@jupyter-widgets/base",
      "_view_module_version": "1.2.0",
      "_view_name": "StyleView",
      "description_width": ""
     }
    },
    "76b2a5aba71143caa70b44ac52c2712b": {
     "model_module": "@jupyter-widgets/controls",
     "model_module_version": "1.5.0",
     "model_name": "ProgressStyleModel",
     "state": {
      "_model_module": "@jupyter-widgets/controls",
      "_model_module_version": "1.5.0",
      "_model_name": "ProgressStyleModel",
      "_view_count": null,
      "_view_module": "@jupyter-widgets/base",
      "_view_module_version": "1.2.0",
      "_view_name": "StyleView",
      "bar_color": null,
      "description_width": ""
     }
    },
    "845cb94a774540c8a4603ff44a097aab": {
     "model_module": "@jupyter-widgets/controls",
     "model_module_version": "1.5.0",
     "model_name": "DescriptionStyleModel",
     "state": {
      "_model_module": "@jupyter-widgets/controls",
      "_model_module_version": "1.5.0",
      "_model_name": "DescriptionStyleModel",
      "_view_count": null,
      "_view_module": "@jupyter-widgets/base",
      "_view_module_version": "1.2.0",
      "_view_name": "StyleView",
      "description_width": ""
     }
    },
    "a730b045413643b49d889694e4659f4f": {
     "model_module": "@jupyter-widgets/base",
     "model_module_version": "1.2.0",
     "model_name": "LayoutModel",
     "state": {
      "_model_module": "@jupyter-widgets/base",
      "_model_module_version": "1.2.0",
      "_model_name": "LayoutModel",
      "_view_count": null,
      "_view_module": "@jupyter-widgets/base",
      "_view_module_version": "1.2.0",
      "_view_name": "LayoutView",
      "align_content": null,
      "align_items": null,
      "align_self": null,
      "border": null,
      "bottom": null,
      "display": null,
      "flex": null,
      "flex_flow": null,
      "grid_area": null,
      "grid_auto_columns": null,
      "grid_auto_flow": null,
      "grid_auto_rows": null,
      "grid_column": null,
      "grid_gap": null,
      "grid_row": null,
      "grid_template_areas": null,
      "grid_template_columns": null,
      "grid_template_rows": null,
      "height": null,
      "justify_content": null,
      "justify_items": null,
      "left": null,
      "margin": null,
      "max_height": null,
      "max_width": null,
      "min_height": null,
      "min_width": null,
      "object_fit": null,
      "object_position": null,
      "order": null,
      "overflow": null,
      "overflow_x": null,
      "overflow_y": null,
      "padding": null,
      "right": null,
      "top": null,
      "visibility": null,
      "width": null
     }
    },
    "a8d6978b5ec34e889c0d24e9175d280b": {
     "model_module": "@jupyter-widgets/controls",
     "model_module_version": "1.5.0",
     "model_name": "FloatProgressModel",
     "state": {
      "_dom_classes": [],
      "_model_module": "@jupyter-widgets/controls",
      "_model_module_version": "1.5.0",
      "_model_name": "FloatProgressModel",
      "_view_count": null,
      "_view_module": "@jupyter-widgets/controls",
      "_view_module_version": "1.5.0",
      "_view_name": "ProgressView",
      "bar_style": "",
      "description": "",
      "description_tooltip": null,
      "layout": "IPY_MODEL_4ffb74bf6f5f46ba957874be7aa62eb9",
      "max": 49743,
      "min": 0,
      "orientation": "horizontal",
      "style": "IPY_MODEL_76b2a5aba71143caa70b44ac52c2712b",
      "value": 1266
     }
    },
    "e28f221b445a4762b6fdce7a1dbd677e": {
     "model_module": "@jupyter-widgets/controls",
     "model_module_version": "1.5.0",
     "model_name": "HTMLModel",
     "state": {
      "_dom_classes": [],
      "_model_module": "@jupyter-widgets/controls",
      "_model_module_version": "1.5.0",
      "_model_name": "HTMLModel",
      "_view_count": null,
      "_view_module": "@jupyter-widgets/controls",
      "_view_module_version": "1.5.0",
      "_view_name": "HTMLView",
      "description": "",
      "description_tooltip": null,
      "layout": "IPY_MODEL_53ea89f337704d698db5cf830a34a545",
      "placeholder": "​",
      "style": "IPY_MODEL_845cb94a774540c8a4603ff44a097aab",
      "value": " 1266/49743 [3:09:18&lt;84:04:39,  6.24s/it]"
     }
    },
    "ff2178ddabfd415e8c11a42355d52f43": {
     "model_module": "@jupyter-widgets/controls",
     "model_module_version": "1.5.0",
     "model_name": "HTMLModel",
     "state": {
      "_dom_classes": [],
      "_model_module": "@jupyter-widgets/controls",
      "_model_module_version": "1.5.0",
      "_model_name": "HTMLModel",
      "_view_count": null,
      "_view_module": "@jupyter-widgets/controls",
      "_view_module_version": "1.5.0",
      "_view_name": "HTMLView",
      "description": "",
      "description_tooltip": null,
      "layout": "IPY_MODEL_a730b045413643b49d889694e4659f4f",
      "placeholder": "​",
      "style": "IPY_MODEL_6ebc9ebf937c448a80dbccb0789f32ca",
      "value": "  3%"
     }
    }
   }
  }
 },
 "nbformat": 4,
 "nbformat_minor": 5
}
